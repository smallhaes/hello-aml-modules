{
 "cells": [
  {
   "cell_type": "code",
   "execution_count": null,
   "metadata": {},
   "outputs": [],
   "source": [
    "import json, os\n",
    "from datetime import datetime\n",
    "from azureml.core import Workspace, Dataset\n",
    "from azureml.pipeline.wrapper import Module, dsl\n",
    "from azureml.pipeline.wrapper._dataset import get_global_dataset_by_path"
   ]
  },
  {
   "cell_type": "code",
   "execution_count": null,
   "metadata": {},
   "outputs": [],
   "source": [
    "ws = Workspace.from_config()\n",
    "#ws = Workspace.get(name='itp-pilot', subscription_id='4aaa645c-5ae2-4ae9-a17a-84b9023bc56a', resource_group='itp-pilot-ResGrp')\n",
    "print(ws.name, ws.resource_group, ws.location, ws.subscription_id, sep='\\n')"
   ]
  },
  {
   "cell_type": "code",
   "execution_count": null,
   "metadata": {},
   "outputs": [],
   "source": [
    "# Module\n",
    "modulefunc = Module.from_yaml(ws, yaml_file=os.path.join('modules', 'noop', '1in2out.spec.yaml'))\n",
    "\n",
    "# Dataset\n",
    "data = get_global_dataset_by_path(ws, 'Automobile_price_data', 'GenericCSV/Automobile_price_data_(Raw)')"
   ]
  },
  {
   "cell_type": "code",
   "execution_count": null,
   "metadata": {},
   "outputs": [],
   "source": [
    "@dsl.pipeline(\n",
    "    name='A huge pipeline composed with nodes 1 in 2 outs',\n",
    "    description='A sample',\n",
    "    default_compute_target='aml-compute'  # 'k80-16-a'\n",
    ")\n",
    "def cell_division():\n",
    "    layer = 6\n",
    "    nodes = []\n",
    "    nodes.append(modulefunc(input1=data))\n",
    "    for i in range(0, layer-1):\n",
    "        print('i=', i, ' nodes len=', len(nodes))\n",
    "        current_layer_nodes = []\n",
    "        for j in range(0, pow(2, i)):\n",
    "            print(datetime.now().strftime(\"%d/%m/%Y %H:%M:%S\"), '\\tj=', j)\n",
    "            n = nodes[-j-1]\n",
    "            current_layer_nodes.append(modulefunc(input1=n.outputs.output1))\n",
    "            current_layer_nodes.append(modulefunc(input1=n.outputs.output2))\n",
    "        nodes = nodes + current_layer_nodes\n",
    "\n",
    "    return {**nodes[-1].outputs}"
   ]
  },
  {
   "cell_type": "code",
   "execution_count": null,
   "metadata": {},
   "outputs": [],
   "source": [
    "pipeline = cell_division()\n",
    "pipeline.validate()"
   ]
  },
  {
   "cell_type": "code",
   "execution_count": null,
   "metadata": {},
   "outputs": [],
   "source": [
    "print(datetime.now().strftime(\"%d/%m/%Y %H:%M:%S\"), '\\t submitting')\n",
    "run = pipeline.submit(\n",
    "    experiment_name='module_SDK_test'\n",
    ")\n",
    "print(datetime.now().strftime(\"%d/%m/%Y %H:%M:%S\"), '\\t submitted')"
   ]
  },
  {
   "cell_type": "code",
   "execution_count": null,
   "metadata": {},
   "outputs": [],
   "source": [
    "#run.wait_for_completion()\n",
    "run"
   ]
  },
  {
   "cell_type": "code",
   "execution_count": null,
   "metadata": {},
   "outputs": [],
   "source": [
    "print(datetime.now().strftime(\"%d/%m/%Y %H:%M:%S\"), '\\t saving')\n",
    "draft = pipeline.save(\n",
    "    experiment_name='module_SDK_test'\n",
    ")\n",
    "print(datetime.now().strftime(\"%d/%m/%Y %H:%M:%S\"), '\\t saved')\n",
    "draft"
   ]
  },
  {
   "cell_type": "code",
   "execution_count": null,
   "metadata": {},
   "outputs": [],
   "source": []
  }
 ],
 "metadata": {
  "authors": [
   {
    "name": "clwan"
   }
  ],
  "file_extension": ".py",
  "kernelspec": {
   "display_name": "Python (aml1)",
   "language": "python",
   "name": "aml1"
  },
  "language_info": {
   "codemirror_mode": {
    "name": "ipython",
    "version": 3
   },
   "file_extension": ".py",
   "mimetype": "text/x-python",
   "name": "python",
   "nbconvert_exporter": "python",
   "pygments_lexer": "ipython3",
   "version": "3.6.5"
  },
  "mimetype": "text/x-python",
  "name": "python",
  "npconvert_exporter": "python",
  "pygments_lexer": "ipython3",
  "version": 3
 },
 "nbformat": 4,
 "nbformat_minor": 2
}
