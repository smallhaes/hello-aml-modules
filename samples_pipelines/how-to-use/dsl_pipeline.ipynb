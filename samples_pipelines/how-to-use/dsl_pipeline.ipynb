{
 "cells": [
  {
   "cell_type": "code",
   "execution_count": null,
   "metadata": {},
   "outputs": [],
   "source": [
    "import os\n",
    "from azureml.core import Workspace, Dataset\n",
    "from azureml.core.compute import AmlCompute, ComputeTarget\n",
    "from azureml.pipeline.wrapper import Module, dsl\n",
    "\n",
    "ws = Workspace.from_config()\n",
    "print(ws.name, ws.resource_group, ws.location, ws.subscription_id, sep='\\n')\n",
    "\n",
    "aml_compute_target = \"aml-compute\"\n",
    "try:\n",
    "    aml_compute = AmlCompute(ws, aml_compute_target)\n",
    "    print(\"Found existing compute target: {}\".format(aml_compute_target))\n",
    "except:\n",
    "    print(\"Creating new compute target: {}\".format(aml_compute_target))\n",
    "\n",
    "    provisioning_config = AmlCompute.provisioning_configuration(vm_size=\"STANDARD_D2_V2\",\n",
    "                                                                min_nodes=1,\n",
    "                                                                max_nodes=4)    \n",
    "    aml_compute = ComputeTarget.create(ws, aml_compute_target, provisioning_config)\n",
    "    aml_compute.wait_for_completion(show_output=True, min_node_count=None, timeout_in_minutes=20)"
   ]
  },
  {
   "cell_type": "code",
   "execution_count": null,
   "metadata": {},
   "outputs": [],
   "source": [
    "try:\n",
    "    train_module_func = Module.load(ws, namespace='microsoft.com/aml/samples', name='Train')\n",
    "except:\n",
    "    train_module_func = Module.register(ws, os.path.join('modules', 'train-score-eval', 'train.yaml'))\n",
    "\n",
    "try:\n",
    "    score_module_func = Module.load(ws, namespace='microsoft.com/aml/samples', name='Score')\n",
    "except:\n",
    "    score_module_func = Module.register(ws, os.path.join('modules', 'train-score-eval', 'score.yaml'))\n",
    "\n",
    "try:\n",
    "    eval_module_func = Module.load(ws, namespace='microsoft.com/aml/samples', name='Evaluate')\n",
    "except:\n",
    "    eval_module_func = Module.register(ws, os.path.join('modules', 'train-score-eval', 'eval.yaml'))\n",
    "    \n",
    "try:\n",
    "    compare_module_func = Module.load(ws, namespace='microsoft.com/aml/samples', name='Compare 2 Models')    \n",
    "except:\n",
    "    compare_module_func = Module.register(ws, os.path.join('modules', 'train-score-eval', 'compare2.yaml'))\n",
    "\n",
    "training_data_name = \"Titanic\"\n",
    "if training_data_name not in ws.datasets:\n",
    "    print('Registering a training dataset for sample pipeline ...')\n",
    "    train_data = Dataset.File.from_files(path=['https://dprepdata.blob.core.windows.net/demo/Titanic.csv'])\n",
    "    train_data.register(workspace=ws,\n",
    "                        name=training_data_name,\n",
    "                        description='Training data (just for illustrative purpose)')\n",
    "    print('Registerd')\n",
    "else:\n",
    "    train_data = ws.datasets[training_data_name]\n",
    "    print('Training dataset found in workspace')\n",
    "\n",
    "train_data = Dataset.get_by_name(ws, training_data_name)\n",
    "test_data = Dataset.get_by_name(ws, training_data_name)"
   ]
  },
  {
   "cell_type": "code",
   "execution_count": null,
   "metadata": {},
   "outputs": [],
   "source": [
    "@dsl.pipeline(name='training_pipeline', description='A sub pipeline including train/score/eval', default_compute_target='aml-compute')\n",
    "def training_pipeline(learning_rate, train_dataset):\n",
    "    train = train_module_func(\n",
    "        training_data=train_dataset,\n",
    "        max_epochs=5,\n",
    "        learning_rate=learning_rate)\n",
    "    train.runsettings.process_count_per_node = 2\n",
    "    train.runsettings.node_count = 2\n",
    "\n",
    "    score = score_module_func(\n",
    "        model_input=train.outputs.model_output,\n",
    "        test_data=test_data)\n",
    "    eval = eval_module_func(scoring_result=score.outputs.score_output)\n",
    "\n",
    "    return {**eval.outputs, **train.outputs}\n",
    "\n",
    "\n",
    "@dsl.pipeline(name='dummy_automl_pipeline', description='A dummy pipeline that trains two models and output the better one', default_compute_target='aml-compute')\n",
    "def dummy_automl_pipeline(train_dataset):\n",
    "    train_and_evalute_model1 = training_pipeline(0.01, train_dataset)\n",
    "    train_and_evalute_model2 = training_pipeline(0.02, train_dataset)\n",
    "    train_and_evalute_model3 = training_pipeline(0.03, train_dataset)\n",
    "    train_and_evalute_model4 = training_pipeline(0.04, train_dataset)\n",
    "\n",
    "    compare12 = compare_module_func(\n",
    "        model1=train_and_evalute_model1.outputs.model_output,\n",
    "        eval_result1=train_and_evalute_model1.outputs.eval_output,\n",
    "        model2=train_and_evalute_model2.outputs.model_output,\n",
    "        eval_result2=train_and_evalute_model2.outputs.eval_output\n",
    "    )\n",
    "    compare34 = compare_module_func(\n",
    "        model1=train_and_evalute_model3.outputs.model_output,\n",
    "        eval_result1=train_and_evalute_model3.outputs.eval_output,\n",
    "        model2=train_and_evalute_model4.outputs.model_output,\n",
    "        eval_result2=train_and_evalute_model4.outputs.eval_output\n",
    "    )\n",
    "\n",
    "    compare = compare_module_func(\n",
    "        model1=compare12.outputs.best_model,\n",
    "        eval_result1=compare12.outputs.best_result,\n",
    "        model2=compare34.outputs.best_model,\n",
    "        eval_result2=compare34.outputs.best_result\n",
    "    )\n",
    "    return compare.outputs"
   ]
  },
  {
   "cell_type": "code",
   "execution_count": null,
   "metadata": {
    "pycharm": {
     "name": "#%%\n"
    }
   },
   "outputs": [],
   "source": [
    "pipeline = dummy_automl_pipeline(train_data)"
   ]
  },
  {
   "cell_type": "code",
   "execution_count": null,
   "metadata": {},
   "outputs": [],
   "source": [
    "pipeline.validate()"
   ]
  },
  {
   "cell_type": "code",
   "execution_count": null,
   "metadata": {
    "pycharm": {
     "name": "#%%\n"
    }
   },
   "outputs": [],
   "source": [
    "run = pipeline.submit(\n",
    "    experiment_name='sample-pipelines'\n",
    ")\n",
    "run.wait_for_completion()\n",
    "run"
   ]
  },
  {
   "cell_type": "code",
   "execution_count": null,
   "metadata": {},
   "outputs": [],
   "source": [
    "pipeline.save(\n",
    "    experiment_name='sample-pipelines'\n",
    ")"
   ]
  }
 ],
 "metadata": {
  "authors": [
   {
    "name": "clwan"
   }
  ],
  "file_extension": ".py",
  "kernelspec": {
   "display_name": "Python (aml1)",
   "language": "python",
   "name": "aml1"
  },
  "language_info": {
   "codemirror_mode": {
    "name": "ipython",
    "version": 3
   },
   "file_extension": ".py",
   "mimetype": "text/x-python",
   "name": "python",
   "nbconvert_exporter": "python",
   "pygments_lexer": "ipython3",
   "version": "3.6.5-final"
  },
  "mimetype": "text/x-python",
  "name": "python",
  "npconvert_exporter": "python",
  "pygments_lexer": "ipython3",
  "version": 3
 },
 "nbformat": 4,
 "nbformat_minor": 2
}
