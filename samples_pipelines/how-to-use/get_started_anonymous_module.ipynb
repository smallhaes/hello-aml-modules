{
 "cells": [
  {
   "cell_type": "code",
   "execution_count": null,
   "metadata": {},
   "outputs": [],
   "source": [
    "import os\n",
    "from azureml.core import Workspace\n",
    "from azureml.core.compute import AmlCompute, ComputeTarget\n",
    "from azureml.pipeline.wrapper import Module, Pipeline\n",
    "from azureml.pipeline.wrapper._dataset import get_global_dataset_by_path\n",
    "\n",
    "workspace = Workspace.from_config()\n",
    "print(workspace.name, workspace.resource_group, workspace.location, workspace.subscription_id, sep = '\\n')\n",
    "\n",
    "aml_compute_target = \"aml-compute\"\n",
    "try:\n",
    "    aml_compute = AmlCompute(workspace, aml_compute_target)\n",
    "    print(\"Found existing compute target: {}\".format(aml_compute_target))\n",
    "except:\n",
    "    print(\"Creating new compute target: {}\".format(aml_compute_target))\n",
    "    \n",
    "    provisioning_config = AmlCompute.provisioning_configuration(vm_size = \"STANDARD_D2_V2\",\n",
    "                                                                min_nodes = 0, \n",
    "                                                                max_nodes = 4)    \n",
    "    aml_compute = ComputeTarget.create(workspace, aml_compute_target, provisioning_config)\n",
    "    aml_compute.wait_for_completion(show_output=True, min_node_count=None, timeout_in_minutes=20)"
   ]
  },
  {
   "cell_type": "code",
   "execution_count": null,
   "metadata": {
    "pycharm": {
     "name": "#%% modules\n"
    }
   },
   "outputs": [],
   "source": [
    "# load modules\n",
    "local_module = Module.from_yaml(workspace, yaml_file=os.path.join('modules', 'hello_world', 'module_spec.yaml'))\n",
    "github_yaml = \"https://github.com/sherry1989/sample_modules/blob/master/3_basic_module/basic_module.yaml\"\n",
    "github_module = Module.from_yaml(workspace, yaml_file=github_yaml)"
   ]
  },
  {
   "cell_type": "code",
   "execution_count": null,
   "metadata": {
    "pycharm": {
     "name": "#%% pipeline\n"
    }
   },
   "outputs": [],
   "source": [
    "# load datasets\n",
    "blob_input_data = get_global_dataset_by_path(workspace, 'Automobile_price_data', 'GenericCSV/Automobile_price_data_(Raw)')"
   ]
  },
  {
   "cell_type": "code",
   "execution_count": null,
   "metadata": {},
   "outputs": [],
   "source": [
    "module1 = local_module(\n",
    "    input_path=blob_input_data,\n",
    "    string_parameter= \"hello\",\n",
    "    int_parameter= 1,\n",
    "    boolean_parameter = True,\n",
    "    enum_parameter=\"option1\"\n",
    ")\n",
    "module2 = github_module(\n",
    "    input_port=module1.outputs.output_path\n",
    ")\n",
    "\n",
    "test_pipeline = Pipeline(nodes=[module1, module2], outputs=module2.outputs, name=\"test local module\",\n",
    "                         default_compute_target='aml-compute')"
   ]
  },
  {
   "cell_type": "code",
   "execution_count": null,
   "metadata": {},
   "outputs": [],
   "source": [
    "errors = test_pipeline.validate()"
   ]
  },
  {
   "cell_type": "code",
   "execution_count": null,
   "metadata": {},
   "outputs": [],
   "source": [
    "run = test_pipeline.submit(\n",
    "    experiment_name='module_SDK_test',\n",
    ")\n",
    "\n",
    "run.wait_for_completion()\n"
   ]
  },
  {
   "cell_type": "code",
   "execution_count": null,
   "metadata": {
    "pycharm": {
     "name": "#%%\n"
    }
   },
   "outputs": [],
   "source": [
    "pipeline_draft = test_pipeline.save(\n",
    "    experiment_name='module_SDK_local_module_test',\n",
    ")\n",
    "pipeline_draft"
   ]
  }
 ],
 "metadata": {
   "authors": [
   {
    "name": "clwan"
   }
  ],
  "kernelspec": {
   "display_name": "Python (aml1)",
   "language": "python",
   "name": "aml1"
  },
  "language_info": {
   "codemirror_mode": {
    "name": "ipython",
    "version": 3
   },
   "file_extension": ".py",
   "mimetype": "text/x-python",
   "name": "python",
   "nbconvert_exporter": "python",
   "pygments_lexer": "ipython3",
   "version": "3.6.5-final"
  }
 },
 "nbformat": 4,
 "nbformat_minor": 1
}