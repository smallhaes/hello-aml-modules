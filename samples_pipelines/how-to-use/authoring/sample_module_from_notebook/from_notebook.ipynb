{
 "metadata": {
  "language_info": {
   "codemirror_mode": {
    "name": "ipython",
    "version": 3
   },
   "file_extension": ".py",
   "mimetype": "text/x-python",
   "name": "python",
   "nbconvert_exporter": "python",
   "pygments_lexer": "ipython3",
   "version": 3
  },
  "orig_nbformat": 2
 },
 "nbformat": 4,
 "nbformat_minor": 2,
 "cells": [
  {
   "cell_type": "markdown",
   "metadata": {},
   "source": [
    "Copyright (c) Microsoft Corporation. All rights reserved.  \n",
    "Licensed under the MIT License."
   ]
  },
  {
   "cell_type": "code",
   "execution_count": null,
   "metadata": {},
   "outputs": [],
   "source": [
    "import os\n",
    "from azureml.pipeline.wrapper.dsl.module import InputDirectory, OutputDirectory\n",
    "from azureml.pipeline.wrapper import dsl"
   ]
  },
  {
   "cell_type": "code",
   "execution_count": null,
   "metadata": {},
   "outputs": [],
   "source": [
    "print(\"In training_notebook.ipynb\")"
   ]
  },
  {
   "cell_type": "markdown",
   "metadata": {},
   "source": [
    "The following cell defines the module metadata and paramters\n",
    "\n",
    "- The function dsl.module will define the module metadata.\n",
    "- A variable with InputDirectory() annotation will be the module's input port.\n",
    "- A variable with OutputDirectory() annotation will be the module's output port.\n",
    "- Other variables with value of type int, float, string, boolean will be the module's arguments.\n",
    "\n",
    "\n",
    "When executing the module, the parameters will be overwrite after this cell."
   ]
  },
  {
   "cell_type": "code",
   "execution_count": null,
   "metadata": {},
   "outputs": [],
   "source": [
    "dsl.module(\n",
    "    name=\"from notebook\",\n",
    "    description=\"\"\"A module from notebook.\n",
    "test multiple lines.\"\"\"\n",
    "\"\\ntest string concatenate\",\n",
    "    is_deterministic=True,\n",
    "    tags=[\n",
    "        'notebook module', # tag1\n",
    "        'test' #tag2\n",
    "        ]\n",
    "    )\n",
    "input: InputDirectory('AnyDirectory', 'input1') = \"data/training_notebook_entry/inputs/input\"\n",
    "output: OutputDirectory('AnyDirectory', 'output1') = \"data/training_notebook_entry/outputs/output\"\n",
    "param1 = \"p1\"\n",
    "param2 = \"p2\"\n",
    "i = 1\n",
    "j = 2.0\n",
    "flag = True"
   ]
  },
  {
   "cell_type": "code",
   "execution_count": null,
   "metadata": {},
   "outputs": [],
   "source": [
    "# Read Input\n",
    "input_file = os.path.join(input, 'result.txt')\n",
    "content = ''\n",
    "if os.path.exists(input_file):\n",
    "    with open(input_file) as f:\n",
    "        content = f.read()\n",
    "\n",
    "print(\"Input Content:\", content)"
   ]
  },
  {
   "cell_type": "code",
   "execution_count": null,
   "metadata": {},
   "outputs": [],
   "source": [
    "new_content = 'param1:%s, param2: %s, i: %d, j: %f, flag: %s' % (param1, param2, i, j, flag)\n",
    "print(\"New Content:\", new_content)"
   ]
  },
  {
   "cell_type": "code",
   "execution_count": null,
   "metadata": {},
   "outputs": [],
   "source": [
    "content = content + '\\n' + new_content\n",
    "print(\"Output Content:\", content)\n",
    "\n",
    "with open(os.path.join(output, 'result.txt'), 'w') as f:\n",
    "    f.write(content)"
   ]
  },
  {
   "cell_type": "code",
   "execution_count": null,
   "metadata": {},
   "outputs": [],
   "source": [
    "# Metrics\n",
    "import scrapbook as sb\n",
    "sb.glue(\"accuracy\", [0, 0.1, 0.2, 0.3, 0.4, 0.5])"
   ]
  }
 ]
}