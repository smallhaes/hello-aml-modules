{
 "metadata": {
  "language_info": {
   "codemirror_mode": {
    "name": "ipython",
    "version": 3
   },
   "file_extension": ".py",
   "mimetype": "text/x-python",
   "name": "python",
   "nbconvert_exporter": "python",
   "pygments_lexer": "ipython3",
   "version": "3.6.10-final"
  },
  "orig_nbformat": 2,
  "kernelspec": {
   "name": "python_defaultSpec_1597374308314",
   "display_name": "Python 3.6.10 64-bit ('sdk_test': conda)"
  }
 },
 "nbformat": 4,
 "nbformat_minor": 2,
 "cells": [
  {
   "cell_type": "markdown",
   "metadata": {},
   "source": [
    "## Create a dsl module entry"
   ]
  },
  {
   "cell_type": "code",
   "execution_count": 2,
   "metadata": {
    "tags": []
   },
   "outputs": [
    {
     "output_type": "stream",
     "name": "stdout",
     "text": "INFO     - Module project builder version: 0.1.0.19657780 Python executable: C:\\Users\\wanhan\\Anaconda3\\envs\\sdk_test\\python.exe\nINFO     ========== Init started: e:\\CodeBase\\hello-aml-modules\\samples_pipelines\\how-to-use\\authoring\\sample_init_entry_only\\entry_only_module ==========\nINFO     - Attempting to generate dsl.module from template...\nWARNING  - Your module name: entry only module was transformed to entry_only_module in order to use as a function name in python.\nINFO     - \t\tCreated \t entry_only_module.py\nINFO     - Initializing entry only module...\nINFO     ========== Init succeeded ==========\nINFO     - Dumping configurations into e:\\CodeBase\\hello-aml-modules\\samples_pipelines\\how-to-use\\authoring\\sample_init_entry_only\\entry_only_module\\.moduleproj\nINFO     - Time Elapsed 0:00:04.768812\n{}\n"
    }
   ],
   "source": [
    "!az ml module init --name \"entry only module\" --entry-only"
   ]
  },
  {
   "cell_type": "markdown",
   "metadata": {},
   "source": [
    "## Edit the module entry..."
   ]
  },
  {
   "cell_type": "markdown",
   "metadata": {},
   "source": [
    "## Import the created module and run locally"
   ]
  },
  {
   "cell_type": "code",
   "execution_count": 7,
   "metadata": {
    "tags": []
   },
   "outputs": [
    {
     "output_type": "stream",
     "name": "stdout",
     "text": "working dir is C:\\Users\\wanhan\\AppData\\Local\\Temp\\ed7ea690-e586-4cbc-be77-0dc990a36a5a\nPreparing snapshot\nPrepared snapshot, time elapsed 0:00:02.945512\nPreparing experiment and run in run history\nPrepared experiment and run in run history, time elapsed 0:00:03.520990\nRunId:fea37922-b1f6-46a1-be46-b9584851727b\nLink to Azure Machine Learning Portal:https://ml.azure.com/experiments/entry_only_module/runs/fea37922-b1f6-46a1-be46-b9584851727b?wsid=/subscriptions/4faaaf21-663f-4391-96fd-47197c630979/resourcegroups/DesignerTestRG/workspaces/DesignerTest-EUS\nStart running module entry only module\nFinish running module entry only module, module run status is Completed\nFinish upload run status to runhistory\n"
    },
    {
     "output_type": "execute_result",
     "data": {
      "text/plain": "'Completed'"
     },
     "metadata": {},
     "execution_count": 7
    }
   ],
   "source": [
    "from pathlib import Path\n",
    "\n",
    "from azureml.pipeline.wrapper import Module\n",
    "from azureml.core import Workspace\n",
    "\n",
    "from entry_only_module.entry_only_module import entry_only_module\n",
    "\n",
    "workspace = Workspace.from_config(path = './config.json')\n",
    "module_func = Module.from_func(workspace, entry_only_module)\n",
    "\n",
    "# create module\n",
    "module = module_func().set_parameters(\n",
    "    str_param='some_string'\n",
    ").set_inputs(\n",
    "    input_dir=str(Path('data') / 'basic_module' / 'inputs' / 'input_dir')\n",
    ")\n",
    "module.run(use_docker=False)"
   ]
  },
  {
   "cell_type": "markdown",
   "metadata": {},
   "source": [
    "## Debug the step run with above portal URL if failed"
   ]
  },
  {
   "cell_type": "markdown",
   "metadata": {},
   "source": [
    "## Edit .moduleproj and specify spec's location to desired location \n",
    "\n",
    "In this case, we modified .moduleproj and specified module spec's location to `spec/entry_only_module.spec.yaml`"
   ]
  },
  {
   "cell_type": "markdown",
   "metadata": {},
   "source": [
    "## Build module spec\n"
   ]
  },
  {
   "cell_type": "code",
   "execution_count": 8,
   "metadata": {
    "tags": []
   },
   "outputs": [
    {
     "output_type": "stream",
     "name": "stderr",
     "text": "INFO     - Module project builder version: 0.1.0.19657780 Python executable: C:\\Users\\wanhan\\Anaconda3\\envs\\sdk_test\\python.exe\nINFO     ========== Build started: e:\\CodeBase\\hello-aml-modules\\samples_pipelines\\how-to-use\\authoring\\sample_init_entry_only ==========\nINFO     - Loading dsl.modules from .moduleproj...\nINFO     - \t\tLoaded: \t E:\\CodeBase\\hello-aml-modules\\samples_pipelines\\how-to-use\\authoring\\sample_init_entry_only\\entry_only_module\\entry_only_module.py.\nINFO     - Building module:entry only module into spec in source directory: e:\\CodeBase\\hello-aml-modules\\samples_pipelines\\how-to-use\\authoring\\sample_init_entry_only\\entry_only_module...\nINFO     - \t\tCreated \t entry_only_module.py -> spec\\entry_only_module.spec.yaml\nINFO     ========== Build: 1 succeeded, 0 failed ==========\nINFO     - Time Elapsed 0:00:04.224120\n"
    }
   ],
   "source": [
    "!az ml module build --target entry_only_module\n",
    "\n",
    "# spec will be generated to \"spec\" folder as we specified"
   ]
  },
  {
   "cell_type": "markdown",
   "metadata": {},
   "source": [
    "## Register the generated spec with specific version"
   ]
  },
  {
   "cell_type": "code",
   "execution_count": 10,
   "metadata": {
    "tags": []
   },
   "outputs": [
    {
     "output_type": "stream",
     "name": "stdout",
     "text": "{\n  \"contact\": null,\n  \"description\": null,\n  \"helpDocument\": null,\n  \"lastUpdatedOn\": \"2020-08-14T03:21:15.8036674Z\",\n  \"moduleID\": \"f39dd1a9-85da-481b-a157-ef837a1182a6\",\n  \"name\": \"entry only module\",\n  \"namespace\": \"wanhan_aml_service\",\n  \"registeredBy\": \"Han Wang\",\n  \"registeredOn\": \"2020-08-14T03:21:12.5566582Z\",\n  \"shared_scope\": \"Workspace\",\n  \"source\": \"Local files\",\n  \"status\": \"Active\",\n  \"tags\": null,\n  \"type\": \"Basic\",\n  \"version\": \"12345\",\n  \"versions\": \"12345 (Default)\",\n  \"yamlLink\": \"spec/entry_only_module.spec.yaml\"\n}\n"
    }
   ],
   "source": [
    "!az ml module register --spec-file entry_only_module/spec/entry_only_module.spec.yaml --set-version 12345 --subscription-id e9b2ec51-5c94-4fa8-809a-dc1e695e4896 -g devtest_group -w wanhan_aml_service"
   ]
  },
  {
   "cell_type": "markdown",
   "metadata": {},
   "source": [
    "## Check if module with version is registered"
   ]
  },
  {
   "cell_type": "code",
   "execution_count": 12,
   "metadata": {
    "tags": []
   },
   "outputs": [
    {
     "output_type": "stream",
     "name": "stdout",
     "text": "{\n  \"contact\": null,\n  \"description\": null,\n  \"helpDocument\": null,\n  \"lastUpdatedOn\": \"2020-08-14T03:21:15.8036674Z\",\n  \"moduleID\": \"f39dd1a9-85da-481b-a157-ef837a1182a6\",\n  \"name\": \"entry only module\",\n  \"namespace\": \"wanhan_aml_service\",\n  \"registeredBy\": \"Han Wang\",\n  \"registeredOn\": \"2020-08-14T03:21:12.5566582Z\",\n  \"shared_scope\": \"Workspace\",\n  \"source\": \"Local files\",\n  \"status\": \"Active\",\n  \"tags\": null,\n  \"type\": \"Basic\",\n  \"version\": \"12345\",\n  \"versions\": \"12345 (Default)\",\n  \"yamlLink\": \"spec/entry_only_module.spec.yaml\"\n}\n"
    }
   ],
   "source": [
    "!az ml module show --name \"entry only module\" --namespace \"wanhan_aml_service\" --subscription-id e9b2ec51-5c94-4fa8-809a-dc1e695e4896 -g devtest_group -w wanhan_aml_service"
   ]
  }
 ]
}