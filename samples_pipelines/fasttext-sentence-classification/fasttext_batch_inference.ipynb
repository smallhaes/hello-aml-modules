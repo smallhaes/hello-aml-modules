{
 "cells": [
  {
   "cell_type": "markdown",
   "metadata": {
    "pycharm": {
     "name": "#%% md\n"
    }
   },
   "source": [
    "Copyright (c) Microsoft Corporation. All rights reserved.  \n",
    "Licensed under the MIT License."
   ]
  },
  {
   "cell_type": "markdown",
   "metadata": {
    "pycharm": {
     "name": "#%% md\n"
    }
   },
   "source": [
    "# Using a Trained  FastText Model for Batch Inference\n",
    "\n",
    "In this notebook, we will demonstrate how to make predictions on large quantities of data asynchronously using the ML pipelines with Azure Machine Learning. Batch inference (or batch scoring) provides cost-effective inference, with unparalleled throughput for asynchronous applications. Batch prediction pipelines can scale to perform inference on terabytes of production data. Batch prediction is optimized for high throughput, fire-and-forget predictions for a large collection of data.\n",
    "\n",
    "> **Tip**\n",
    "The dataset we use is not that huge. We aim to make you know the workflow of batch inference. If your system requires low-latency processing (to process a single document or small set of documents quickly), please use realtime inference. Refer to fasttext_realtime_inference.ipynb for more details. \n",
    "\n",
    "The outline of this notebook is as follows:\n",
    "\n",
    "- Create a DataStore referencing documents stored in a blob container.\n",
    "- Reference a trained fastText model from a complete experiment.\n",
    "- Use the fastText model to do batch inference on the documents in the data blob container.\n",
    "\n",
    "## Prerequisites\n",
    "If you are using an Azure Machine Learning Notebook VM, you are all set. Otherwise, make sure you go through the configuration Notebook located at https://github.com/Azure/MachineLearningNotebooks first. This sets you up with a working config file that has information on your workspace, subscription id, etc."
   ]
  },
  {
   "cell_type": "code",
   "execution_count": 1,
   "metadata": {
    "pycharm": {
     "name": "#%%\n"
    }
   },
   "outputs": [],
   "source": [
    "import pandas as pd\n",
    "from azureml.core import Workspace, Dataset, Datastore, Run\n",
    "from azureml.core.compute import AmlCompute, ComputeTarget\n",
    "from azureml.data.datapath import DataPath\n",
    "from azureml.core.experiment import Experiment\n",
    "from azureml.pipeline.wrapper import PipelineRun, Module, dsl\n",
    "from azureml.pipeline.wrapper._pipeline_endpoint import PipelineEndpoint"
   ]
  },
  {
   "cell_type": "markdown",
   "metadata": {},
   "source": [
    "### Connect to workspace\n",
    "Create a workspace object from the existing workspace. Workspace.from_config() reads the file config.json and loads the details into an object named workspace.\n"
   ]
  },
  {
   "cell_type": "code",
   "execution_count": 2,
   "metadata": {
    "tags": []
   },
   "outputs": [
    {
     "name": "stdout",
     "output_type": "stream",
     "text": [
      "DesignerDRI_EASTUS\n",
      "DesignerDRI\n",
      "eastus\n",
      "74eccef0-4b8d-4f83-b5f9-fa100d155b22\n",
      "dict_keys(['attached-aks', 'default', 'compute', 'aml-compute', 'aml-compute-gpu'])\n"
     ]
    }
   ],
   "source": [
    "workspace = Workspace.from_config('config.json')\n",
    "print(workspace.name, workspace.resource_group, workspace.location, workspace.subscription_id,\n",
    "      workspace.compute_targets.keys(), sep='\\n')"
   ]
  },
  {
   "cell_type": "markdown",
   "metadata": {},
   "source": [
    "### Create or Attach existing compute resource\n",
    "By using Azure Machine Learning Compute, a managed service, data scientists can train machine learning models on clusters of Azure virtual machines. Examples include VMs with GPU support. In this tutorial, you create Azure Machine Learning Compute as your training environment. The code below creates the compute clusters for you if they don't already exist in your workspace.\n",
    "\n",
    "**Creation of compute takes approximately 5 minutes. If the AmlCompute with that name is already in your workspace the code will skip the creation process.**\n"
   ]
  },
  {
   "cell_type": "code",
   "execution_count": 3,
   "metadata": {
    "tags": []
   },
   "outputs": [
    {
     "name": "stdout",
     "output_type": "stream",
     "text": [
      "Found existing compute target: aml-compute\n"
     ]
    }
   ],
   "source": [
    "aml_compute_name = 'aml-compute'\n",
    "if aml_compute_name in workspace.compute_targets:\n",
    "    aml_compute = AmlCompute(workspace, aml_compute_name)\n",
    "    print(\"Found existing compute target: {}\".format(aml_compute_name))\n",
    "else:\n",
    "    print(\"Creating new compute target: {}\".format(aml_compute_name))\n",
    "    provisioning_config = AmlCompute.provisioning_configuration(vm_size=\"STANDARD_D2_V2\", min_nodes=1, max_nodes=4)\n",
    "    aml_compute = ComputeTarget.create(workspace, aml_compute_name, provisioning_config)\n",
    "    aml_compute.wait_for_completion(show_output=True)"
   ]
  },
  {
   "cell_type": "markdown",
   "metadata": {},
   "source": [
    "### Upload the dataset into a blob container and prepare it as the input of batch inference"
   ]
  },
  {
   "cell_type": "code",
   "execution_count": 4,
   "metadata": {
    "scrolled": true,
    "tags": []
   },
   "outputs": [],
   "source": [
    "# upload files onto path_on_datastore to a blob container\n",
    "# our files are in the directory of 'path_on_datastore' in the blob container\n",
    "path_on_datastore = 'data_for_batch_inference'\n",
    "datastore = Datastore.get(workspace=workspace, datastore_name='workspaceblobstore')\n",
    "datastore.upload(src_dir='data/data_for_batch_inference', target_path=path_on_datastore, overwrite=True, show_progress=False)\n",
    "\n",
    "# get the DataPath object associated with the uploaded dataset\n",
    "datastore_path = [DataPath(datastore=datastore, path_on_datastore=path_on_datastore)]\n",
    "\n",
    "# dataset used as the input of the batch inference\n",
    "dataset = Dataset.File.from_files(path=datastore_path).as_named_input('dataset_for_batch_inference')"
   ]
  },
  {
   "cell_type": "markdown",
   "metadata": {},
   "source": [
    "### Register an anonymous module from yaml file to the workspace\n",
    "If you decorate your module function with ```@dsl.module```, azure-cli-ml could help to generate the ```*.spec.yaml``` file.\n",
    "Please refer to the customized modules for more details."
   ]
  },
  {
   "cell_type": "code",
   "execution_count": 5,
   "metadata": {
    "tags": []
   },
   "outputs": [],
   "source": [
    "fasttext_score_module_func = Module.from_yaml(workspace, 'fasttext_score/fasttext_score.spec.yaml')"
   ]
  },
  {
   "cell_type": "markdown",
   "metadata": {},
   "source": [
    "### Load a trained fastText model from a complete experiment\n",
    "- get all experiments\n",
    "- choose an experiment from all experiments\n",
    "- get the latest run\n",
    "- get a PipelineRun associated with the run"
   ]
  },
  {
   "cell_type": "code",
   "execution_count": 6,
   "metadata": {
    "pycharm": {
     "name": "#%%\n"
    },
    "scrolled": true
   },
   "outputs": [
    {
     "data": {
      "text/plain": [
       "['sample10',\n",
       " 'sample5',\n",
       " 'sample5-realtime',\n",
       " 'simple10-batch',\n",
       " 'pythonscript',\n",
       " 'Data_dependency',\n",
       " 'clement',\n",
       " 'new_module',\n",
       " 'test_module2',\n",
       " 'test_m',\n",
       " 'module_SDK_local_module_test',\n",
       " 'fasttext_pipeline',\n",
       " 'fasttext_batch_inference',\n",
       " 'fasttext_pipeline2',\n",
       " 'fasttext_pipeline_endpoint',\n",
       " 'split_data_txt',\n",
       " 'fasttext_train']"
      ]
     },
     "execution_count": 6,
     "metadata": {},
     "output_type": "execute_result"
    }
   ],
   "source": [
    "exp_name_list = [exp.name for exp in Experiment.list(workspace)]\n",
    "exp_name_list"
   ]
  },
  {
   "cell_type": "markdown",
   "metadata": {},
   "source": [
    "### Choose the experiment you want with its name"
   ]
  },
  {
   "cell_type": "code",
   "execution_count": 7,
   "metadata": {
    "pycharm": {
     "name": "#%%\n"
    }
   },
   "outputs": [
    {
     "data": {
      "text/html": [
       "<table style=\"width:100%\"><tr><th>Name</th><th>Workspace</th><th>Report Page</th><th>Docs Page</th></tr><tr><td>fasttext_pipeline</td><td>DesignerDRI_EASTUS</td><td><a href=\"https://ml.azure.com/experiments/fasttext_pipeline?wsid=/subscriptions/74eccef0-4b8d-4f83-b5f9-fa100d155b22/resourcegroups/DesignerDRI/workspaces/DesignerDRI_EASTUS\" target=\"_blank\" rel=\"noopener\">Link to Azure Machine Learning studio</a></td><td><a href=\"https://docs.microsoft.com/en-us/python/api/azureml-core/azureml.core.experiment.Experiment?view=azure-ml-py\" target=\"_blank\" rel=\"noopener\">Link to Documentation</a></td></tr></table>"
      ],
      "text/plain": [
       "Experiment(Name: fasttext_pipeline,\n",
       "Workspace: DesignerDRI_EASTUS)"
      ]
     },
     "execution_count": 7,
     "metadata": {},
     "output_type": "execute_result"
    }
   ],
   "source": [
    "experiment_name = \"fasttext_pipeline\"\n",
    "experiment = Experiment(workspace, experiment_name)\n",
    "experiment"
   ]
  },
  {
   "cell_type": "code",
   "execution_count": 8,
   "metadata": {
    "pycharm": {
     "name": "#%%\n"
    }
   },
   "outputs": [
    {
     "data": {
      "text/html": [
       "<table style=\"width:100%\"><tr><th>Experiment</th><th>Id</th><th>Type</th><th>Status</th><th>Details Page</th><th>Docs Page</th></tr><tr><td>fasttext_pipeline</td><td>adc2ae6c-f6ed-4f68-a4df-20aab1812a90</td><td>azureml.PipelineRun</td><td>Completed</td><td><a href=\"https://ml.azure.com/experiments/fasttext_pipeline/runs/adc2ae6c-f6ed-4f68-a4df-20aab1812a90?wsid=/subscriptions/74eccef0-4b8d-4f83-b5f9-fa100d155b22/resourcegroups/DesignerDRI/workspaces/DesignerDRI_EASTUS\" target=\"_blank\" rel=\"noopener\">Link to Azure Machine Learning studio</a></td><td><a href=\"https://docs.microsoft.com/en-us/python/api/azureml-core/azureml.core.run.Run?view=azure-ml-py\" target=\"_blank\" rel=\"noopener\">Link to Documentation</a></td></tr></table>"
      ],
      "text/plain": [
       "Run(Experiment: fasttext_pipeline,\n",
       "Id: adc2ae6c-f6ed-4f68-a4df-20aab1812a90,\n",
       "Type: azureml.PipelineRun,\n",
       "Status: Completed)"
      ]
     },
     "execution_count": 8,
     "metadata": {},
     "output_type": "execute_result"
    }
   ],
   "source": [
    "# azureml.core.Run\n",
    "run = Run.list(experiment, status='Completed').__next__()\n",
    "run"
   ]
  },
  {
   "cell_type": "markdown",
   "metadata": {},
   "source": [
    "### Get a PipelineRun object"
   ]
  },
  {
   "cell_type": "code",
   "execution_count": 9,
   "metadata": {
    "pycharm": {
     "name": "#%%\n"
    }
   },
   "outputs": [
    {
     "data": {
      "text/html": [
       "<table style=\"width:100%\"><tr><th>Experiment</th><th>Id</th><th>Type</th><th>Status</th><th>Details Page</th><th>Docs Page</th></tr><tr><td>fasttext_pipeline</td><td>adc2ae6c-f6ed-4f68-a4df-20aab1812a90</td><td>azureml.PipelineRun</td><td>Completed</td><td><a href=\"https://ml.azure.com/experiments/fasttext_pipeline/runs/adc2ae6c-f6ed-4f68-a4df-20aab1812a90?wsid=/subscriptions/74eccef0-4b8d-4f83-b5f9-fa100d155b22/resourcegroups/DesignerDRI/workspaces/DesignerDRI_EASTUS\" target=\"_blank\" rel=\"noopener\">Link to Azure Machine Learning studio</a></td><td><a href=\"https://docs.microsoft.com/en-us/python/api/overview/azure/ml/intro?view=azure-ml-py\" target=\"_blank\" rel=\"noopener\">Link to Documentation</a></td></tr></table>"
      ],
      "text/plain": [
       "Run(Experiment: fasttext_pipeline,\n",
       "Id: adc2ae6c-f6ed-4f68-a4df-20aab1812a90,\n",
       "Type: azureml.PipelineRun,\n",
       "Status: Completed)"
      ]
     },
     "execution_count": 9,
     "metadata": {},
     "output_type": "execute_result"
    }
   ],
   "source": [
    "# azureml.pipeline.wrapper.PipelineRun\n",
    "pipeline_run = PipelineRun(experiment, run.id)\n",
    "pipeline_run"
   ]
  },
  {
   "cell_type": "markdown",
   "metadata": {},
   "source": [
    "### Visualize the pipeline so as to obtain information about the module"
   ]
  },
  {
   "cell_type": "code",
   "execution_count": 10,
   "metadata": {
    "pycharm": {
     "name": "#%%\n"
    },
    "scrolled": false
   },
   "outputs": [
    {
     "data": {
      "application/javascript": [
       "try {\n",
       "    require.undef(\"validate_widget\")\n",
       "\n",
       "    define('validate_widget', [\"@jupyter-widgets/base\"], function(widgets) {\n",
       "        var ValidateView = widgets.DOMWidgetView.extend({\n",
       "            render () {\n",
       "                window.widget_self = this\n",
       "                var visualize_id = this.model.get('visualize_id')\n",
       "\n",
       "                if (!window._renderLock) {\n",
       "                    window._renderLock = {}\n",
       "                }\n",
       "                if (window._renderLock[visualize_id]) {\n",
       "                    return\n",
       "                }\n",
       "                window._renderLock[visualize_id] = \"widget\"\n",
       "                console.log(\"load as widget\", Date.now())\n",
       "\n",
       "                var lib_url = this.model.get('lib_url')\n",
       "                var graph_json = JSON.parse(this.model.get('graph_json'))\n",
       "                var env_json = JSON.parse(this.model.get('env_json'))\n",
       "                var container_id = this.model.get('container_id')\n",
       "\n",
       "                window.render_container_id = container_id\n",
       "                window.graph_json = graph_json\n",
       "                window.graph_json_to_compare = undefined\n",
       "                window.env_json = env_json\n",
       "                window.before_script = performance.now()\n",
       "\n",
       "                var container = document.createElement('div')\n",
       "                container.id = container_id\n",
       "                this.el.appendChild(container)\n",
       "\n",
       "                var style = document.createElement('style')\n",
       "                style.innerHTML = [\n",
       "                    \"#\", container_id, \" svg.react-dag-editor-svg-container { height: 800px; }\",\n",
       "                    \".cell-output-ipywidget-background { background: transparent !important }\"\n",
       "                ].join('')\n",
       "                this.el.appendChild(style)\n",
       "\n",
       "                this.model.on('msg:custom', dispatchMessage, this);\n",
       "\n",
       "                if (!window.__event_hub) {\n",
       "                    window.__event_hub = {}\n",
       "                }\n",
       "                if (!window.__event_hub[container_id]) {\n",
       "                    window.__event_hub[container_id] = {}\n",
       "                }\n",
       "\n",
       "                if (!window.__send_event) {\n",
       "                    window.__send_event = {}\n",
       "                }\n",
       "                window.__send_event[container_id] = sendMessage.bind(this)\n",
       "\n",
       "                function sendMessage(message, uid, content) {\n",
       "                    return new Promise((resolve) => {\n",
       "                        this.model.send({\n",
       "                            message: `${message}:request`,\n",
       "                            body: {\n",
       "                                uid,\n",
       "                                content\n",
       "                            }\n",
       "                        })\n",
       "    \n",
       "                        var respMessageKey = `${message}:response`\n",
       "                        if (!window.__event_hub[container_id][respMessageKey]) {\n",
       "                            window.__event_hub[container_id][respMessageKey] = []\n",
       "                        }\n",
       "                        window.__event_hub[container_id][respMessageKey].push(callback)\n",
       "    \n",
       "                        function callback (response) {\n",
       "                            if (response.uid !== uid) {\n",
       "                                return\n",
       "                            }\n",
       "\n",
       "                            var idx = window.__event_hub[container_id][respMessageKey].indexOf(callback) \n",
       "                            window.__event_hub[container_id][respMessageKey].splice(idx, 1)\n",
       "                            \n",
       "                            resolve(response)\n",
       "                        }\n",
       "                    })\n",
       "                }\n",
       "\n",
       "                function dispatchMessage (rawMessage) {\n",
       "                    var message = rawMessage.message\n",
       "                    var body = rawMessage.body\n",
       "\n",
       "                    if (!window.__event_hub[container_id][message]) {\n",
       "                        window.__event_hub[container_id][message] = []\n",
       "                    }\n",
       "                    var listeners = window.__event_hub[container_id][message]\n",
       "\n",
       "                    listeners.forEach(cb => {\n",
       "                        try {\n",
       "                            cb(body)\n",
       "                        } catch (e) {\n",
       "                            console.error(\"Unexpected error in listener\", e)\n",
       "                        }\n",
       "                    })\n",
       "\n",
       "                    console.log(body)\n",
       "                }\n",
       "\n",
       "                var script = document.createElement('script')\n",
       "                script.src = lib_url\n",
       "                this.el.appendChild(script)\n",
       "            }\n",
       "        });\n",
       "\n",
       "        return {\n",
       "            ValidateView\n",
       "        }\n",
       "    })\n",
       "} catch (e) {\n",
       "    console.log(\"create validation widget failed\", e)\n",
       "}"
      ],
      "text/plain": [
       "<IPython.core.display.Javascript object>"
      ]
     },
     "metadata": {},
     "output_type": "display_data"
    },
    {
     "data": {
      "application/vnd.jupyter.widget-view+json": {
       "model_id": "c5da01ea74d14b29866a9a04350113f8",
       "version_major": 2,
       "version_minor": 0
      },
      "text/plain": [
       "ValidateView(container_id='container_id_8fbc08ca-c4bf-407e-bb32-0fc7c8f2c4ed_widget', env_json='{}', graph_jso…"
      ]
     },
     "metadata": {},
     "output_type": "display_data"
    },
    {
     "data": {
      "text/html": [
       "\n",
       "        <style>\n",
       "        #container_id_8fbc08ca-c4bf-407e-bb32-0fc7c8f2c4ed_script svg.react-dag-editor-svg-container {\n",
       "            height: 800px;\n",
       "        }\n",
       "        </style>\n",
       "        <div id=\"container_id_8fbc08ca-c4bf-407e-bb32-0fc7c8f2c4ed_script\"></div>\n",
       "        <script>\n",
       "            (function () {\n",
       "                if (!window._renderLock) {\n",
       "                    window._renderLock = {}\n",
       "                }\n",
       "                if (window._renderLock[\"8fbc08ca-c4bf-407e-bb32-0fc7c8f2c4ed\"]) {\n",
       "                    return\n",
       "                }\n",
       "                window._renderLock[\"8fbc08ca-c4bf-407e-bb32-0fc7c8f2c4ed\"] = \"script\"\n",
       "                console.log(\"load as script\", Date.now())\n",
       "                window.render_container_id=\"container_id_8fbc08ca-c4bf-407e-bb32-0fc7c8f2c4ed_script\";\n",
       "                window.graph_json={\"pipeline\": {\"name\": \"fasttext_pipeline\", \"data_references\": {\"THUCNews\": {\"dataset_id\": \"efa8f18c-9b9b-47f3-9630-de9002dc61aa\"}}, \"steps\": {\"0ccb5ea8\": {\"inputs\": {\"Input_dir\": {\"source\": \"THUCNews\"}}, \"outputs\": {\"Training_data_output\": {\"destination\": \"0ccb5ea8_Training_data_output\"}, \"Validation_data_output\": {\"destination\": \"0ccb5ea8_Validation_data_output\"}, \"Test_data_output\": {\"destination\": \"0ccb5ea8_Test_data_output\"}}, \"module\": {\"id\": \"ce6b396e-3a04-43ce-94ad-fcd832d2b73f\", \"version\": \"0.0.43\"}, \"validate\": {\"error\": [], \"module_id\": \"ce6b396e-3a04-43ce-94ad-fcd832d2b73f\", \"namespace\": \"DesignerDRI_EASTUS\", \"module_name\": \"Split Data Txt\", \"module_version\": \"0.0.43\"}}, \"d287ad29\": {\"inputs\": {\"Training_data_dir\": {\"source\": \"0ccb5ea8_Training_data_output\"}, \"Validation_data_dir\": {\"source\": \"0ccb5ea8_Validation_data_output\"}}, \"outputs\": {\"Trained_model_dir\": {\"destination\": \"d287ad29_Trained_model_dir\"}}, \"module\": {\"id\": \"4e9ca820-1bc3-4723-8d57-ff87439c3870\", \"version\": \"0.0.41\"}, \"validate\": {\"error\": [], \"module_id\": \"4e9ca820-1bc3-4723-8d57-ff87439c3870\", \"namespace\": \"DesignerDRI_EASTUS\", \"module_name\": \"FastText Train\", \"module_version\": \"0.0.41\"}}, \"1c32e07b\": {\"inputs\": {\"Trained_model_dir\": {\"source\": \"d287ad29_Trained_model_dir\"}, \"Test_data_dir\": {\"source\": \"0ccb5ea8_Test_data_output\"}}, \"outputs\": {\"Model_testing_result\": {\"destination\": \"1c32e07b_Model_testing_result\"}}, \"module\": {\"id\": \"469befc1-4332-4296-9701-561291fd910e\", \"version\": \"0.0.8\"}, \"validate\": {\"error\": [], \"module_id\": \"469befc1-4332-4296-9701-561291fd910e\", \"namespace\": \"DesignerDRI_EASTUS\", \"module_name\": \"FastText Evaluation\", \"module_version\": \"0.0.8\"}}, \"e53d14eb\": {\"inputs\": {\"Input_dir\": {\"source\": \"THUCNews\"}}, \"outputs\": {\"Training_data_output\": {\"destination\": \"e53d14eb_Training_data_output\"}, \"Validation_data_output\": {\"destination\": \"e53d14eb_Validation_data_output\"}, \"Test_data_output\": {\"destination\": \"e53d14eb_Test_data_output\"}}, \"module\": {\"id\": \"ce6b396e-3a04-43ce-94ad-fcd832d2b73f\", \"version\": \"0.0.43\"}, \"validate\": {\"error\": [], \"module_id\": \"ce6b396e-3a04-43ce-94ad-fcd832d2b73f\", \"namespace\": \"DesignerDRI_EASTUS\", \"module_name\": \"Split Data Txt\", \"module_version\": \"0.0.43\"}}, \"8454e4db\": {\"inputs\": {\"Training_data_dir\": {\"source\": \"e53d14eb_Training_data_output\"}, \"Validation_data_dir\": {\"source\": \"e53d14eb_Validation_data_output\"}}, \"outputs\": {\"Trained_model_dir\": {\"destination\": \"8454e4db_Trained_model_dir\"}}, \"module\": {\"id\": \"4e9ca820-1bc3-4723-8d57-ff87439c3870\", \"version\": \"0.0.41\"}, \"validate\": {\"error\": [], \"module_id\": \"4e9ca820-1bc3-4723-8d57-ff87439c3870\", \"namespace\": \"DesignerDRI_EASTUS\", \"module_name\": \"FastText Train\", \"module_version\": \"0.0.41\"}}, \"e9da7466\": {\"inputs\": {\"Trained_model_dir\": {\"source\": \"8454e4db_Trained_model_dir\"}, \"Test_data_dir\": {\"source\": \"e53d14eb_Test_data_output\"}}, \"outputs\": {\"Model_testing_result\": {\"destination\": \"e9da7466_Model_testing_result\"}}, \"module\": {\"id\": \"469befc1-4332-4296-9701-561291fd910e\", \"version\": \"0.0.8\"}, \"validate\": {\"error\": [], \"module_id\": \"469befc1-4332-4296-9701-561291fd910e\", \"namespace\": \"DesignerDRI_EASTUS\", \"module_name\": \"FastText Evaluation\", \"module_version\": \"0.0.8\"}}, \"2da910ae\": {\"inputs\": {\"First_trained_model\": {\"source\": \"d287ad29_Trained_model_dir\"}, \"First_trained_result\": {\"source\": \"1c32e07b_Model_testing_result\"}, \"Second_trained_model\": {\"source\": \"8454e4db_Trained_model_dir\"}, \"Second_trained_result\": {\"source\": \"e9da7466_Model_testing_result\"}}, \"outputs\": {}, \"module\": {\"id\": \"af42bfd4-47ff-45e8-b560-d5812d9b3c28\", \"version\": \"0.0.18\"}, \"validate\": {\"error\": [], \"module_id\": \"af42bfd4-47ff-45e8-b560-d5812d9b3c28\", \"namespace\": \"DesignerDRI_EASTUS\", \"module_name\": \"Compare Two Models\", \"module_version\": \"0.0.18\"}}}}, \"modules\": [{\"module_id\": \"ce6b396e-3a04-43ce-94ad-fcd832d2b73f\", \"version\": \"0.0.43\", \"name\": \"Split Data Txt\", \"namespace\": \"DesignerDRI_EASTUS\", \"structured_interface\": {\"inputs\": [{\"name\": \"Input_dir\", \"label\": \"Input dir\", \"description\": null, \"data_type_ids_list\": [\"AnyDirectory\"]}], \"outputs\": [{\"name\": \"Training_data_output\", \"label\": \"Training data output\", \"description\": null, \"data_type_id\": \"AnyDirectory\"}, {\"name\": \"Validation_data_output\", \"label\": \"Validation data output\", \"description\": null, \"data_type_id\": \"AnyDirectory\"}, {\"name\": \"Test_data_output\", \"label\": \"Test data output\", \"description\": null, \"data_type_id\": \"AnyDirectory\"}]}}, {\"module_id\": \"4e9ca820-1bc3-4723-8d57-ff87439c3870\", \"version\": \"0.0.41\", \"name\": \"FastText Train\", \"namespace\": \"DesignerDRI_EASTUS\", \"structured_interface\": {\"inputs\": [{\"name\": \"Training_data_dir\", \"label\": \"Training data dir\", \"description\": null, \"data_type_ids_list\": [\"AnyDirectory\"]}, {\"name\": \"Validation_data_dir\", \"label\": \"Validation data dir\", \"description\": null, \"data_type_ids_list\": [\"AnyDirectory\"]}], \"outputs\": [{\"name\": \"Trained_model_dir\", \"label\": \"Trained model dir\", \"description\": null, \"data_type_id\": \"ModelDirectory\"}]}}, {\"module_id\": \"469befc1-4332-4296-9701-561291fd910e\", \"version\": \"0.0.8\", \"name\": \"FastText Evaluation\", \"namespace\": \"DesignerDRI_EASTUS\", \"structured_interface\": {\"inputs\": [{\"name\": \"Trained_model_dir\", \"label\": \"Trained model dir\", \"description\": null, \"data_type_ids_list\": [\"AnyDirectory\"]}, {\"name\": \"Test_data_dir\", \"label\": \"Test data dir\", \"description\": null, \"data_type_ids_list\": [\"AnyDirectory\"]}], \"outputs\": [{\"name\": \"Model_testing_result\", \"label\": \"Model testing result\", \"description\": null, \"data_type_id\": \"AnyDirectory\"}]}}, {\"module_id\": \"af42bfd4-47ff-45e8-b560-d5812d9b3c28\", \"version\": \"0.0.18\", \"name\": \"Compare Two Models\", \"namespace\": \"DesignerDRI_EASTUS\", \"structured_interface\": {\"inputs\": [{\"name\": \"First_trained_model\", \"label\": \"First trained model\", \"description\": null, \"data_type_ids_list\": [\"AnyDirectory\"]}, {\"name\": \"First_trained_result\", \"label\": \"First trained result\", \"description\": null, \"data_type_ids_list\": [\"AnyDirectory\"]}, {\"name\": \"Second_trained_model\", \"label\": \"Second trained model\", \"description\": null, \"data_type_ids_list\": [\"AnyDirectory\"]}, {\"name\": \"Second_trained_result\", \"label\": \"Second trained result\", \"description\": null, \"data_type_ids_list\": [\"AnyDirectory\"]}], \"outputs\": [{\"name\": \"The_better_model\", \"label\": \"The better model\", \"description\": null, \"data_type_id\": \"AnyDirectory\"}]}}], \"datasources\": [{\"name\": \"THUCNews\", \"description\": \"THUCNews dataset is generated by filtering and filtering historical data     of Sina News RSS subscription channel from 2005 to 2011\", \"version\": \"1\", \"registered_id\": \"efa8f18c-9b9b-47f3-9630-de9002dc61aa\", \"saved_id\": \"8ece8ea8-1318-4d4d-8cac-2acb631feb85\", \"nodeId\": \"70286d9a-c269-31a9-bbba-13fbf3d37b70\"}], \"subGraphInfo\": [{\"name\": \"fasttext_pipeline\", \"description\": \"The pipeline that trains two fasttext models and output the better one\", \"default_compute_target\": {\"name\": \"aml-compute-gpu\", \"compute_type\": \"0\"}, \"default_data_store\": {\"data_store_name\": \"workspaceblobstore\"}, \"id\": \"0b1e2110-f07f-410e-a593-b509bba40318\", \"pipeline_definition_id\": \"0ab395d2-7376-4110-81da-e0e60c948d2e\", \"sub_graph_parameter_assignment\": [], \"sub_graph_data_path_parameter_assignment\": [], \"sub_graph_default_compute_target_nodes\": [\"2da910ae\"], \"sub_graph_default_data_store_nodes\": [\"2da910ae\"], \"inputs\": [], \"outputs\": []}, {\"name\": \"sub_pipeline\", \"description\": \"A sub pipeline including processes of data processing/training/evaluation\", \"default_compute_target\": {\"name\": \"aml-compute-gpu\", \"compute_type\": \"0\"}, \"default_data_store\": {\"data_store_name\": \"workspaceblobstore\"}, \"id\": \"9d766e36-812d-4332-8aed-6443119ba0d9\", \"parent_graph_id\": \"0b1e2110-f07f-410e-a593-b509bba40318\", \"pipeline_definition_id\": \"528631a6-b6c4-460d-a739-97c48aa9f418\", \"sub_graph_parameter_assignment\": [{\"parameter\": {\"name\": \"epochs\", \"is_optional\": false, \"type\": \"0\"}, \"parameter_assignments\": [{\"node_id\": \"d287ad29\", \"parameter_name\": \"Epochs\"}]}, {\"parameter\": {\"name\": \"batch_size\", \"is_optional\": false, \"type\": \"0\"}, \"parameter_assignments\": [{\"node_id\": \"d287ad29\", \"parameter_name\": \"Batch size\"}]}, {\"parameter\": {\"name\": \"max_len\", \"is_optional\": false, \"type\": \"0\"}, \"parameter_assignments\": [{\"node_id\": \"d287ad29\", \"parameter_name\": \"Max len\"}]}], \"sub_graph_data_path_parameter_assignment\": [], \"sub_graph_default_compute_target_nodes\": [\"0ccb5ea8\", \"d287ad29\", \"1c32e07b\"], \"sub_graph_default_data_store_nodes\": [], \"inputs\": [], \"outputs\": [{\"name\": \"model_testing_result\", \"internal\": [{\"node_id\": \"1c32e07b\", \"port_name\": \"Model_testing_result\"}], \"external\": [{\"node_id\": \"2da910ae\", \"port_name\": \"First_trained_result\"}]}, {\"name\": \"trained_model_dir\", \"internal\": [{\"node_id\": \"d287ad29\", \"port_name\": \"Trained_model_dir\"}], \"external\": [{\"node_id\": \"1c32e07b\", \"port_name\": \"Trained_model_dir\"}, {\"node_id\": \"2da910ae\", \"port_name\": \"First_trained_model\"}]}]}, {\"name\": \"sub_pipeline\", \"description\": \"A sub pipeline including processes of data processing/training/evaluation\", \"default_compute_target\": {\"name\": \"aml-compute-gpu\", \"compute_type\": \"0\"}, \"default_data_store\": {\"data_store_name\": \"workspaceblobstore\"}, \"id\": \"53ee3afd-ded3-4776-8fe3-abbe123829d3\", \"parent_graph_id\": \"0b1e2110-f07f-410e-a593-b509bba40318\", \"pipeline_definition_id\": \"528631a6-b6c4-460d-a739-97c48aa9f418\", \"sub_graph_parameter_assignment\": [{\"parameter\": {\"name\": \"epochs\", \"is_optional\": false, \"type\": \"0\"}, \"parameter_assignments\": [{\"node_id\": \"8454e4db\", \"parameter_name\": \"Epochs\"}]}, {\"parameter\": {\"name\": \"batch_size\", \"is_optional\": false, \"type\": \"0\"}, \"parameter_assignments\": [{\"node_id\": \"8454e4db\", \"parameter_name\": \"Batch size\"}]}, {\"parameter\": {\"name\": \"max_len\", \"is_optional\": false, \"type\": \"0\"}, \"parameter_assignments\": [{\"node_id\": \"8454e4db\", \"parameter_name\": \"Max len\"}]}], \"sub_graph_data_path_parameter_assignment\": [], \"sub_graph_default_compute_target_nodes\": [\"e53d14eb\", \"8454e4db\", \"e9da7466\"], \"sub_graph_default_data_store_nodes\": [], \"inputs\": [], \"outputs\": [{\"name\": \"model_testing_result\", \"internal\": [{\"node_id\": \"e9da7466\", \"port_name\": \"Model_testing_result\"}], \"external\": [{\"node_id\": \"2da910ae\", \"port_name\": \"Second_trained_result\"}]}, {\"name\": \"trained_model_dir\", \"internal\": [{\"node_id\": \"8454e4db\", \"port_name\": \"Trained_model_dir\"}], \"external\": [{\"node_id\": \"e9da7466\", \"port_name\": \"Trained_model_dir\"}, {\"node_id\": \"2da910ae\", \"port_name\": \"Second_trained_model\"}]}]}], \"nodeIdToSubGraphIdMapping\": {\"0ccb5ea8\": \"9d766e36-812d-4332-8aed-6443119ba0d9\", \"d287ad29\": \"9d766e36-812d-4332-8aed-6443119ba0d9\", \"1c32e07b\": \"9d766e36-812d-4332-8aed-6443119ba0d9\", \"e53d14eb\": \"53ee3afd-ded3-4776-8fe3-abbe123829d3\", \"8454e4db\": \"53ee3afd-ded3-4776-8fe3-abbe123829d3\", \"e9da7466\": \"53ee3afd-ded3-4776-8fe3-abbe123829d3\", \"2da910ae\": \"0b1e2110-f07f-410e-a593-b509bba40318\"}, \"subPipelineDefinition\": [{\"name\": \"fasttext_pipeline\", \"description\": \"The pipeline that trains two fasttext models and output the better one\", \"default_compute_target\": {\"name\": \"aml-compute-gpu\", \"compute_type\": \"0\"}, \"default_data_store\": {\"data_store_name\": \"workspaceblobstore\"}, \"pipeline_function_name\": \"fasttext_pipeline\", \"id\": \"0ab395d2-7376-4110-81da-e0e60c948d2e\", \"from_module_name\": \"__main__\", \"parameter_list\": []}, {\"name\": \"sub_pipeline\", \"description\": \"A sub pipeline including processes of data processing/training/evaluation\", \"default_compute_target\": {\"name\": \"aml-compute-gpu\", \"compute_type\": \"0\"}, \"default_data_store\": {\"data_store_name\": \"workspaceblobstore\"}, \"pipeline_function_name\": \"training_pipeline\", \"id\": \"528631a6-b6c4-460d-a739-97c48aa9f418\", \"from_module_name\": \"__main__\", \"parameter_list\": [{\"key\": \"epochs\"}, {\"key\": \"batch_size\"}, {\"key\": \"max_len\"}]}]};\n",
       "                window.graph_json_to_compare=undefined;\n",
       "                window.env_json={};\n",
       "                window.before_script = performance.now();\n",
       "                var script = document.createElement('script')\n",
       "                script.src = \"https://yucongj.azureedge.net/libs/prod/0.0.9/index.js\"\n",
       "                document.getElementById(\"container_id_8fbc08ca-c4bf-407e-bb32-0fc7c8f2c4ed_script\").appendChild(script)\n",
       "            })()\n",
       "        </script>\n",
       "        "
      ],
      "text/plain": [
       "<IPython.core.display.HTML object>"
      ]
     },
     "metadata": {},
     "output_type": "display_data"
    }
   ],
   "source": [
    "pipeline_run.visualize()"
   ]
  },
  {
   "cell_type": "markdown",
   "metadata": {
    "pycharm": {
     "name": "#%% md\n"
    }
   },
   "source": [
    "### Get a StepRun object"
   ]
  },
  {
   "cell_type": "code",
   "execution_count": 11,
   "metadata": {
    "pycharm": {
     "name": "#%%\n"
    }
   },
   "outputs": [
    {
     "data": {
      "text/html": [
       "<table style=\"width:100%\"><tr><th>Experiment</th><th>Id</th><th>Type</th><th>Status</th><th>Details Page</th><th>Docs Page</th></tr><tr><td>fasttext_pipeline</td><td>563be321-693b-4c1c-b33b-6c515e26856c</td><td>azureml.StepRun</td><td>Completed</td><td><a href=\"https://ml.azure.com/experiments/fasttext_pipeline/runs/563be321-693b-4c1c-b33b-6c515e26856c?wsid=/subscriptions/74eccef0-4b8d-4f83-b5f9-fa100d155b22/resourcegroups/DesignerDRI/workspaces/DesignerDRI_EASTUS\" target=\"_blank\" rel=\"noopener\">Link to Azure Machine Learning studio</a></td><td><a href=\"https://docs.microsoft.com/en-us/python/api/overview/azure/ml/intro?view=azure-ml-py\" target=\"_blank\" rel=\"noopener\">Link to Documentation</a></td></tr></table>"
      ],
      "text/plain": [
       "StepRun(Experiment: fasttext_pipeline,\n",
       "Id: 563be321-693b-4c1c-b33b-6c515e26856c,\n",
       "Type: azureml.StepRun,\n",
       "Status: Completed)"
      ]
     },
     "execution_count": 11,
     "metadata": {},
     "output_type": "execute_result"
    }
   ],
   "source": [
    "# You need to update the step run id\n",
    "# When the process of visualization is finished, right click the \"Compare Two Models\" and get the step run id from \"View Run Id\"\n",
    "step_run_id = '563be321-693b-4c1c-b33b-6c515e26856c'\n",
    "step_run = pipeline_run.get_step_run(step_run_id)\n",
    "step_run"
   ]
  },
  {
   "cell_type": "markdown",
   "metadata": {},
   "source": [
    "### In order to use the trained model from a port without registration, we need to install an extra dependence"
   ]
  },
  {
   "cell_type": "code",
   "execution_count": null,
   "metadata": {
    "scrolled": true
   },
   "outputs": [],
   "source": [
    "# Install dataset runtime to enable dataset registration in sample notebooks\n",
    "!pip install azureml-dataset-runtime[fuse] --extra-index-url https://azuremlsdktestpypi.azureedge.net/modulesdkpreview --user --upgrade"
   ]
  },
  {
   "cell_type": "markdown",
   "metadata": {
    "pycharm": {
     "name": "#%% md\n"
    }
   },
   "source": [
    "### Use the trained model as the input of a new pipeline"
   ]
  },
  {
   "cell_type": "code",
   "execution_count": 12,
   "metadata": {
    "pycharm": {
     "name": "#%%\n"
    }
   },
   "outputs": [
    {
     "data": {
      "text/plain": [
       "<azureml.data.dataset_consumption_config.DatasetConsumptionConfig at 0x7effcc079f60>"
      ]
     },
     "execution_count": 12,
     "metadata": {},
     "output_type": "execute_result"
    }
   ],
   "source": [
    "port = step_run.get_port(name='The better model')\n",
    "model_data_path = port.get_data_path()\n",
    "model = Dataset.File.from_files(path=[model_data_path]).as_named_input('model_for_batch_inference')\n",
    "model"
   ]
  },
  {
   "cell_type": "markdown",
   "metadata": {
    "pycharm": {
     "name": "#%% md\n"
    }
   },
   "source": [
    "### Construct the pipeline"
   ]
  },
  {
   "cell_type": "code",
   "execution_count": 13,
   "metadata": {
    "pycharm": {
     "name": "#%%\n"
    }
   },
   "outputs": [],
   "source": [
    "@dsl.pipeline(name='batch inference', description='Batch Inference', default_compute_target=aml_compute.name)\n",
    "def training_pipeline(dataset, model):\n",
    "    fasttext_score = fasttext_score_module_func(\n",
    "        texts_to_score=dataset,\n",
    "        fasttext_model_dir=model\n",
    "    )\n",
    "    fasttext_score.runsettings.configure(node_count=2, process_count_per_node=2, mini_batch_size='64')"
   ]
  },
  {
   "cell_type": "code",
   "execution_count": 14,
   "metadata": {},
   "outputs": [
    {
     "data": {
      "text/plain": [
       "<azureml.pipeline.wrapper._pipeline.Pipeline at 0x7effae9c2ac8>"
      ]
     },
     "execution_count": 14,
     "metadata": {},
     "output_type": "execute_result"
    }
   ],
   "source": [
    "pipeline = training_pipeline(dataset=dataset, model=model)\n",
    "# pipeline.save(experiment_name=experiment_name)\n",
    "pipeline"
   ]
  },
  {
   "cell_type": "markdown",
   "metadata": {},
   "source": [
    "### Run the pipeline"
   ]
  },
  {
   "cell_type": "code",
   "execution_count": 15,
   "metadata": {
    "scrolled": false,
    "tags": [
     "outputPrepend"
    ]
   },
   "outputs": [
    {
     "name": "stdout",
     "output_type": "stream",
     "text": [
      "Submitted PipelineRun 50f18538-19dd-49ee-8969-e00876b8fe36\n",
      "Link to Azure Machine Learning Portal: https://ml.azure.com/experiments/fasttext_batch_inference/runs/50f18538-19dd-49ee-8969-e00876b8fe36?wsid=/subscriptions/74eccef0-4b8d-4f83-b5f9-fa100d155b22/resourcegroups/DesignerDRI/workspaces/DesignerDRI_EASTUS\n",
      "PipelineRunId: 50f18538-19dd-49ee-8969-e00876b8fe36\n",
      "Link to Azure Machine Learning Portal: https://ml.azure.com/experiments/fasttext_batch_inference/runs/50f18538-19dd-49ee-8969-e00876b8fe36?wsid=/subscriptions/74eccef0-4b8d-4f83-b5f9-fa100d155b22/resourcegroups/DesignerDRI/workspaces/DesignerDRI_EASTUS\n"
     ]
    },
    {
     "data": {
      "application/javascript": [
       "try {\n",
       "    require.undef(\"validate_widget\")\n",
       "\n",
       "    define('validate_widget', [\"@jupyter-widgets/base\"], function(widgets) {\n",
       "        var ValidateView = widgets.DOMWidgetView.extend({\n",
       "            render () {\n",
       "                window.widget_self = this\n",
       "                var visualize_id = this.model.get('visualize_id')\n",
       "\n",
       "                if (!window._renderLock) {\n",
       "                    window._renderLock = {}\n",
       "                }\n",
       "                if (window._renderLock[visualize_id]) {\n",
       "                    return\n",
       "                }\n",
       "                window._renderLock[visualize_id] = \"widget\"\n",
       "                console.log(\"load as widget\", Date.now())\n",
       "\n",
       "                var lib_url = this.model.get('lib_url')\n",
       "                var graph_json = JSON.parse(this.model.get('graph_json'))\n",
       "                var env_json = JSON.parse(this.model.get('env_json'))\n",
       "                var container_id = this.model.get('container_id')\n",
       "\n",
       "                window.render_container_id = container_id\n",
       "                window.graph_json = graph_json\n",
       "                window.graph_json_to_compare = undefined\n",
       "                window.env_json = env_json\n",
       "                window.before_script = performance.now()\n",
       "\n",
       "                var container = document.createElement('div')\n",
       "                container.id = container_id\n",
       "                this.el.appendChild(container)\n",
       "\n",
       "                var style = document.createElement('style')\n",
       "                style.innerHTML = [\n",
       "                    \"#\", container_id, \" svg.react-dag-editor-svg-container { height: 800px; }\",\n",
       "                    \".cell-output-ipywidget-background { background: transparent !important }\"\n",
       "                ].join('')\n",
       "                this.el.appendChild(style)\n",
       "\n",
       "                this.model.on('msg:custom', dispatchMessage, this);\n",
       "\n",
       "                if (!window.__event_hub) {\n",
       "                    window.__event_hub = {}\n",
       "                }\n",
       "                if (!window.__event_hub[container_id]) {\n",
       "                    window.__event_hub[container_id] = {}\n",
       "                }\n",
       "\n",
       "                if (!window.__send_event) {\n",
       "                    window.__send_event = {}\n",
       "                }\n",
       "                window.__send_event[container_id] = sendMessage.bind(this)\n",
       "\n",
       "                function sendMessage(message, uid, content) {\n",
       "                    return new Promise((resolve) => {\n",
       "                        this.model.send({\n",
       "                            message: `${message}:request`,\n",
       "                            body: {\n",
       "                                uid,\n",
       "                                content\n",
       "                            }\n",
       "                        })\n",
       "    \n",
       "                        var respMessageKey = `${message}:response`\n",
       "                        if (!window.__event_hub[container_id][respMessageKey]) {\n",
       "                            window.__event_hub[container_id][respMessageKey] = []\n",
       "                        }\n",
       "                        window.__event_hub[container_id][respMessageKey].push(callback)\n",
       "    \n",
       "                        function callback (response) {\n",
       "                            if (response.uid !== uid) {\n",
       "                                return\n",
       "                            }\n",
       "\n",
       "                            var idx = window.__event_hub[container_id][respMessageKey].indexOf(callback) \n",
       "                            window.__event_hub[container_id][respMessageKey].splice(idx, 1)\n",
       "                            \n",
       "                            resolve(response)\n",
       "                        }\n",
       "                    })\n",
       "                }\n",
       "\n",
       "                function dispatchMessage (rawMessage) {\n",
       "                    var message = rawMessage.message\n",
       "                    var body = rawMessage.body\n",
       "\n",
       "                    if (!window.__event_hub[container_id][message]) {\n",
       "                        window.__event_hub[container_id][message] = []\n",
       "                    }\n",
       "                    var listeners = window.__event_hub[container_id][message]\n",
       "\n",
       "                    listeners.forEach(cb => {\n",
       "                        try {\n",
       "                            cb(body)\n",
       "                        } catch (e) {\n",
       "                            console.error(\"Unexpected error in listener\", e)\n",
       "                        }\n",
       "                    })\n",
       "\n",
       "                    console.log(body)\n",
       "                }\n",
       "\n",
       "                var script = document.createElement('script')\n",
       "                script.src = lib_url\n",
       "                this.el.appendChild(script)\n",
       "            }\n",
       "        });\n",
       "\n",
       "        return {\n",
       "            ValidateView\n",
       "        }\n",
       "    })\n",
       "} catch (e) {\n",
       "    console.log(\"create validation widget failed\", e)\n",
       "}"
      ],
      "text/plain": [
       "<IPython.core.display.Javascript object>"
      ]
     },
     "metadata": {},
     "output_type": "display_data"
    },
    {
     "data": {
      "application/vnd.jupyter.widget-view+json": {
       "model_id": "6e5c0766930a4a7bb0005f964a17d89e",
       "version_major": 2,
       "version_minor": 0
      },
      "text/plain": [
       "ValidateView(container_id='container_id_c29cd12c-83eb-4ec4-b350-a11472ec154b_widget', env_json='{}', graph_jso…"
      ]
     },
     "metadata": {},
     "output_type": "display_data"
    },
    {
     "data": {
      "text/html": [
       "\n",
       "        <style>\n",
       "        #container_id_c29cd12c-83eb-4ec4-b350-a11472ec154b_script svg.react-dag-editor-svg-container {\n",
       "            height: 800px;\n",
       "        }\n",
       "        </style>\n",
       "        <div id=\"container_id_c29cd12c-83eb-4ec4-b350-a11472ec154b_script\"></div>\n",
       "        <script>\n",
       "            (function () {\n",
       "                if (!window._renderLock) {\n",
       "                    window._renderLock = {}\n",
       "                }\n",
       "                if (window._renderLock[\"c29cd12c-83eb-4ec4-b350-a11472ec154b\"]) {\n",
       "                    return\n",
       "                }\n",
       "                window._renderLock[\"c29cd12c-83eb-4ec4-b350-a11472ec154b\"] = \"script\"\n",
       "                console.log(\"load as script\", Date.now())\n",
       "                window.render_container_id=\"container_id_c29cd12c-83eb-4ec4-b350-a11472ec154b_script\";\n",
       "                window.graph_json={\"pipeline\": {\"name\": \"batch inference\", \"data_references\": {\"dataset\": {\"saved_id\": \"11f0a26b-d865-4ad4-8c9e-6fe79aedbcc9\"}, \"model\": {\"saved_id\": \"73d29d87-c0d2-42d6-9372-a5aef0ee45d6\"}}, \"steps\": {\"5b2a1a4f\": {\"inputs\": {\"Texts_to_score\": {\"source\": \"dataset\"}, \"Fasttext_model_dir\": {\"source\": \"model\"}}, \"outputs\": {}, \"module\": {\"id\": \"e4e2cfd8-54e7-4e8c-ad45-36dc86eda613\", \"version\": \"0.0.23\"}, \"validate\": {\"error\": [], \"module_id\": \"e4e2cfd8-54e7-4e8c-ad45-36dc86eda613\", \"namespace\": \"DesignerDRI_EASTUS\", \"module_name\": \"FastText Score\", \"module_version\": \"0.0.23\"}}}}, \"modules\": [{\"module_id\": \"e4e2cfd8-54e7-4e8c-ad45-36dc86eda613\", \"version\": \"0.0.23\", \"name\": \"FastText Score\", \"namespace\": \"DesignerDRI_EASTUS\", \"structured_interface\": {\"inputs\": [{\"name\": \"Texts_to_score\", \"label\": \"Texts to score\", \"description\": null, \"data_type_ids_list\": [\"AnyDirectory\"]}, {\"name\": \"Fasttext_model_dir\", \"label\": \"Fasttext model dir\", \"description\": null, \"data_type_ids_list\": [\"AnyDirectory\"]}], \"outputs\": [{\"name\": \"Scored_data_output_dir\", \"label\": \"Scored data output dir\", \"description\": null, \"data_type_id\": \"AnyDirectory\"}]}}], \"datasources\": [], \"subGraphInfo\": [{\"name\": \"batch inference\", \"description\": \"Batch Inference\", \"default_compute_target\": {\"name\": \"aml-compute\", \"compute_type\": \"0\"}, \"default_data_store\": {\"data_store_name\": \"workspaceblobstore\"}, \"id\": \"f3497e4c-03b2-435f-a999-1ce1e8d45825\", \"pipeline_definition_id\": \"061c0254-3f1d-4f67-b24b-f8a773ae2f6d\", \"sub_graph_parameter_assignment\": [{\"parameter\": {\"name\": \"dataset\", \"is_optional\": false, \"type\": \"0\"}, \"parameter_assignments\": [{\"node_id\": \"5b2a1a4f\", \"parameter_name\": \"texts_to_score\"}]}, {\"parameter\": {\"name\": \"model\", \"is_optional\": false, \"type\": \"0\"}, \"parameter_assignments\": [{\"node_id\": \"5b2a1a4f\", \"parameter_name\": \"fasttext_model_dir\"}]}], \"sub_graph_data_path_parameter_assignment\": [], \"sub_graph_default_compute_target_nodes\": [\"5b2a1a4f\"], \"sub_graph_default_data_store_nodes\": [\"5b2a1a4f\"], \"inputs\": [{\"name\": \"dataset\", \"internal\": [{\"node_id\": \"5b2a1a4f\", \"port_name\": \"Texts_to_score\"}], \"external\": []}, {\"name\": \"model\", \"internal\": [{\"node_id\": \"5b2a1a4f\", \"port_name\": \"Fasttext_model_dir\"}], \"external\": []}], \"outputs\": []}], \"nodeIdToSubGraphIdMapping\": {\"5b2a1a4f\": \"f3497e4c-03b2-435f-a999-1ce1e8d45825\"}, \"subPipelineDefinition\": [{\"name\": \"batch inference\", \"description\": \"Batch Inference\", \"default_compute_target\": {\"name\": \"aml-compute\", \"compute_type\": \"0\"}, \"default_data_store\": {\"data_store_name\": \"workspaceblobstore\"}, \"pipeline_function_name\": \"training_pipeline\", \"id\": \"061c0254-3f1d-4f67-b24b-f8a773ae2f6d\", \"from_module_name\": \"__main__\", \"parameter_list\": [{\"key\": \"dataset\", \"value\": \"<azureml.data.dataset_consumption_config.DatasetConsumptionConfig object at 0x7effdc1c3eb8>\"}, {\"key\": \"model\", \"value\": \"<azureml.data.dataset_consumption_config.DatasetConsumptionConfig object at 0x7effcc079f60>\"}]}]};\n",
       "                window.graph_json_to_compare=undefined;\n",
       "                window.env_json={};\n",
       "                window.before_script = performance.now();\n",
       "                var script = document.createElement('script')\n",
       "                script.src = \"https://yucongj.azureedge.net/libs/prod/0.0.9/index.js\"\n",
       "                document.getElementById(\"container_id_c29cd12c-83eb-4ec4-b350-a11472ec154b_script\").appendChild(script)\n",
       "            })()\n",
       "        </script>\n",
       "        "
      ],
      "text/plain": [
       "<IPython.core.display.HTML object>"
      ]
     },
     "metadata": {},
     "output_type": "display_data"
    },
    {
     "data": {
      "text/plain": [
       "<RunStatus.completed: 'Completed'>"
      ]
     },
     "execution_count": 15,
     "metadata": {},
     "output_type": "execute_result"
    }
   ],
   "source": [
    "# pipeline_run\n",
    "experiment_name = 'fasttext_batch_inference'\n",
    "pipeline_run = pipeline.submit(experiment_name=experiment_name, regenerate_outputs=False)\n",
    "pipeline_run.wait_for_completion()"
   ]
  },
  {
   "cell_type": "markdown",
   "metadata": {},
   "source": [
    "### Download results of batch inference"
   ]
  },
  {
   "cell_type": "code",
   "execution_count": 16,
   "metadata": {},
   "outputs": [
    {
     "data": {
      "text/html": [
       "<table style=\"width:100%\"><tr><th>Experiment</th><th>Id</th><th>Type</th><th>Status</th><th>Details Page</th><th>Docs Page</th></tr><tr><td>fasttext_batch_inference</td><td>20406ca5-31ca-4f7e-a352-fd28711b3f5e</td><td>azureml.StepRun</td><td>Completed</td><td><a href=\"https://ml.azure.com/experiments/fasttext_batch_inference/runs/20406ca5-31ca-4f7e-a352-fd28711b3f5e?wsid=/subscriptions/74eccef0-4b8d-4f83-b5f9-fa100d155b22/resourcegroups/DesignerDRI/workspaces/DesignerDRI_EASTUS\" target=\"_blank\" rel=\"noopener\">Link to Azure Machine Learning studio</a></td><td><a href=\"https://docs.microsoft.com/en-us/python/api/overview/azure/ml/intro?view=azure-ml-py\" target=\"_blank\" rel=\"noopener\">Link to Documentation</a></td></tr></table>"
      ],
      "text/plain": [
       "StepRun(Experiment: fasttext_batch_inference,\n",
       "Id: 20406ca5-31ca-4f7e-a352-fd28711b3f5e,\n",
       "Type: azureml.StepRun,\n",
       "Status: Completed)"
      ]
     },
     "execution_count": 16,
     "metadata": {},
     "output_type": "execute_result"
    }
   ],
   "source": [
    "# You need to change the step run id\n",
    "# When the process of visualization is finished, right click the \"FastText Score\" and get the step run id from \"View Run Id\"\n",
    "step_run_id = '20406ca5-31ca-4f7e-a352-fd28711b3f5e'\n",
    "step_run = pipeline_run.get_step_run(step_run_id)\n",
    "step_run"
   ]
  },
  {
   "cell_type": "code",
   "execution_count": 17,
   "metadata": {},
   "outputs": [
    {
     "name": "stdout",
     "output_type": "stream",
     "text": [
      "Downloading azureml/20406ca5-31ca-4f7e-a352-fd28711b3f5e/Scored_data_output_dir/5322ccffca4f48dfb626ccae1687293c.parquet\n",
      "Downloading azureml/20406ca5-31ca-4f7e-a352-fd28711b3f5e/Scored_data_output_dir/5d9ed99ccb4e455fa538032ce06428c3.parquet\n",
      "Downloading azureml/20406ca5-31ca-4f7e-a352-fd28711b3f5e/Scored_data_output_dir/737a7c6bb9b7460aa11b8a6ed2ef3a25.parquet\n",
      "Downloading azureml/20406ca5-31ca-4f7e-a352-fd28711b3f5e/Scored_data_output_dir/dff8d7a30e9a4afa827548fc45c2a932.parquet\n",
      "Downloaded azureml/20406ca5-31ca-4f7e-a352-fd28711b3f5e/Scored_data_output_dir/5d9ed99ccb4e455fa538032ce06428c3.parquet, 1 files out of an estimated total of 4\n",
      "Downloaded azureml/20406ca5-31ca-4f7e-a352-fd28711b3f5e/Scored_data_output_dir/737a7c6bb9b7460aa11b8a6ed2ef3a25.parquet, 2 files out of an estimated total of 4\n",
      "Downloaded azureml/20406ca5-31ca-4f7e-a352-fd28711b3f5e/Scored_data_output_dir/dff8d7a30e9a4afa827548fc45c2a932.parquet, 3 files out of an estimated total of 4\n",
      "Downloaded azureml/20406ca5-31ca-4f7e-a352-fd28711b3f5e/Scored_data_output_dir/5322ccffca4f48dfb626ccae1687293c.parquet, 4 files out of an estimated total of 4\n"
     ]
    },
    {
     "data": {
      "text/plain": [
       "'/tmp/azureml/20406ca5-31ca-4f7e-a352-fd28711b3f5e/Scored_data_output_dir'"
      ]
     },
     "execution_count": 17,
     "metadata": {},
     "output_type": "execute_result"
    }
   ],
   "source": [
    "port = step_run.get_port(name='Scored data output dir')\n",
    "saved_path = port.download(overwrite=True)\n",
    "saved_path"
   ]
  },
  {
   "cell_type": "markdown",
   "metadata": {},
   "source": [
    "### Check the results of batch inference"
   ]
  },
  {
   "cell_type": "code",
   "execution_count": 18,
   "metadata": {},
   "outputs": [
    {
     "name": "stdout",
     "output_type": "stream",
     "text": [
      "(200, 2)\n"
     ]
    },
    {
     "data": {
      "text/html": [
       "<div>\n",
       "<style scoped>\n",
       "    .dataframe tbody tr th:only-of-type {\n",
       "        vertical-align: middle;\n",
       "    }\n",
       "\n",
       "    .dataframe tbody tr th {\n",
       "        vertical-align: top;\n",
       "    }\n",
       "\n",
       "    .dataframe thead th {\n",
       "        text-align: right;\n",
       "    }\n",
       "</style>\n",
       "<table border=\"1\" class=\"dataframe\">\n",
       "  <thead>\n",
       "    <tr style=\"text-align: right;\">\n",
       "      <th></th>\n",
       "      <th>Filename</th>\n",
       "      <th>Class</th>\n",
       "    </tr>\n",
       "  </thead>\n",
       "  <tbody>\n",
       "    <tr>\n",
       "      <th>0</th>\n",
       "      <td>/tmp/tmp3f4gtdtn/34</td>\n",
       "      <td>stock</td>\n",
       "    </tr>\n",
       "    <tr>\n",
       "      <th>1</th>\n",
       "      <td>/tmp/tmp3f4gtdtn/35</td>\n",
       "      <td>entertainment</td>\n",
       "    </tr>\n",
       "    <tr>\n",
       "      <th>2</th>\n",
       "      <td>/tmp/tmp3f4gtdtn/36</td>\n",
       "      <td>society</td>\n",
       "    </tr>\n",
       "    <tr>\n",
       "      <th>3</th>\n",
       "      <td>/tmp/tmp3f4gtdtn/37</td>\n",
       "      <td>technology</td>\n",
       "    </tr>\n",
       "    <tr>\n",
       "      <th>4</th>\n",
       "      <td>/tmp/tmp3f4gtdtn/38</td>\n",
       "      <td>sport</td>\n",
       "    </tr>\n",
       "    <tr>\n",
       "      <th>5</th>\n",
       "      <td>/tmp/tmp3f4gtdtn/39</td>\n",
       "      <td>society</td>\n",
       "    </tr>\n",
       "    <tr>\n",
       "      <th>6</th>\n",
       "      <td>/tmp/tmp3f4gtdtn/4</td>\n",
       "      <td>society</td>\n",
       "    </tr>\n",
       "    <tr>\n",
       "      <th>7</th>\n",
       "      <td>/tmp/tmp3f4gtdtn/40</td>\n",
       "      <td>entertainment</td>\n",
       "    </tr>\n",
       "    <tr>\n",
       "      <th>8</th>\n",
       "      <td>/tmp/tmp3f4gtdtn/41</td>\n",
       "      <td>society</td>\n",
       "    </tr>\n",
       "    <tr>\n",
       "      <th>9</th>\n",
       "      <td>/tmp/tmp3f4gtdtn/42</td>\n",
       "      <td>realty</td>\n",
       "    </tr>\n",
       "  </tbody>\n",
       "</table>\n",
       "</div>"
      ],
      "text/plain": [
       "              Filename          Class\n",
       "0  /tmp/tmp3f4gtdtn/34          stock\n",
       "1  /tmp/tmp3f4gtdtn/35  entertainment\n",
       "2  /tmp/tmp3f4gtdtn/36        society\n",
       "3  /tmp/tmp3f4gtdtn/37     technology\n",
       "4  /tmp/tmp3f4gtdtn/38          sport\n",
       "5  /tmp/tmp3f4gtdtn/39        society\n",
       "6   /tmp/tmp3f4gtdtn/4        society\n",
       "7  /tmp/tmp3f4gtdtn/40  entertainment\n",
       "8  /tmp/tmp3f4gtdtn/41        society\n",
       "9  /tmp/tmp3f4gtdtn/42         realty"
      ]
     },
     "execution_count": 18,
     "metadata": {},
     "output_type": "execute_result"
    }
   ],
   "source": [
    "df_list = []\n",
    "for i, file in enumerate(os.listdir(saved_path)):\n",
    "    path = os.path.join(saved_path, file)\n",
    "    df_list.append(pd.read_parquet(path, engine='pyarrow'))\n",
    "df = pd.concat(df_list) \n",
    "print(df.shape)\n",
    "df.head(n=10)"
   ]
  },
  {
   "cell_type": "markdown",
   "metadata": {},
   "source": [
    "## Reuse this pipeline with PipelineEndpoint\n",
    "Suppose you need to do batch inference for a new dataset. Just reuse this pipeline with PipelineEndpoint.\n",
    "\n",
    "Suppose you want to choose a new model to do batch inference. Just reuse this pipeline with PipelineEndpoint."
   ]
  },
  {
   "cell_type": "markdown",
   "metadata": {},
   "source": [
    "### Create a pipeline endpoint\n",
    "Publish the above pipeline to a pipeline endpoint."
   ]
  },
  {
   "cell_type": "code",
   "execution_count": 19,
   "metadata": {},
   "outputs": [
    {
     "data": {
      "text/html": [
       "<table style=\"width:100%\"><tr><th>Name</th><th>Description</th><th>Date updated</th><th>Updated by</th><th>Last run time</th><th>Last run status</th><th>Status</th><th>tags</th><th>Portal Link</th></tr><tr><td>fasttext_endpoint</td><td></td><td>2020-08-18 09:37:10.713346+00:00</td><td>Xiaoyu Yang</td><td>2020-08-21 03:15:20.963964+00:00</td><td>Unknown</td><td>Unknown</td><td>azureml.Designer: true</td><td><a href=\"https://ml.azure.com/endpoint/a9aa25a4-3944-44c7-a34e-4949d0a06948/fasttext_endpoint/pipelines?wsid=/subscriptions/74eccef0-4b8d-4f83-b5f9-fa100d155b22/resourcegroups/DesignerDRI/workspaces/DesignerDRI_EASTUS\" target=\"_blank\" rel=\"noopener\">Link</a></td></tr></table>"
      ],
      "text/plain": [
       "PipelineEndpoint(Name: fasttext_endpoint,\n",
       "Description: None,\n",
       "Date updated: 2020-08-18 09:37:10.713346+00:00,\n",
       "Updated by: Xiaoyu Yang,\n",
       "Last run time: 2020-08-21 03:15:20.963964+00:00,\n",
       "Last run status: Unknown,\n",
       "Status: Unknown,\n",
       "tags: azureml.Designer: true,\n",
       "Portal Link: https://ml.azure.com/endpoint/a9aa25a4-3944-44c7-a34e-4949d0a06948/fasttext_endpoint/pipelines?wsid=/subscriptions/74eccef0-4b8d-4f83-b5f9-fa100d155b22/resourcegroups/DesignerDRI/workspaces/DesignerDRI_EASTUS)"
      ]
     },
     "execution_count": 19,
     "metadata": {},
     "output_type": "execute_result"
    }
   ],
   "source": [
    "name = 'fasttext_endpoint'\n",
    "try:\n",
    "    pipeline_endpoint = PipelineEndpoint.get(workspace=workspace, name=name)\n",
    "except:\n",
    "    # If there exists a pipeline endpoint, publish the above pipeline to a pipeline endpoint\n",
    "    pipeline_endpoint = PipelineEndpoint.publish(workspace=workspace, name=name, pipeline=pipeline_run)\n",
    "pipeline_endpoint"
   ]
  },
  {
   "cell_type": "markdown",
   "metadata": {},
   "source": [
    "### Prepare a new dataset\n",
    "Here, we use the dataset we used just now. To make a difference, we give it a new module name."
   ]
  },
  {
   "cell_type": "code",
   "execution_count": 20,
   "metadata": {
    "scrolled": true
   },
   "outputs": [
    {
     "data": {
      "text/plain": [
       "<azureml.data.dataset_consumption_config.DatasetConsumptionConfig at 0x7effacfd1048>"
      ]
     },
     "execution_count": 20,
     "metadata": {},
     "output_type": "execute_result"
    }
   ],
   "source": [
    "dataset = Dataset.File.from_files(path=datastore_path).as_named_input('dataset_for_batch_inference_new')\n",
    "dataset"
   ]
  },
  {
   "cell_type": "markdown",
   "metadata": {},
   "source": [
    "### Choose a new model\n",
    "Here, we use the model used just now. To make a difference, we give it a new module name."
   ]
  },
  {
   "cell_type": "code",
   "execution_count": 21,
   "metadata": {},
   "outputs": [
    {
     "data": {
      "text/plain": [
       "<azureml.data.dataset_consumption_config.DatasetConsumptionConfig at 0x7effacfc4470>"
      ]
     },
     "execution_count": 21,
     "metadata": {},
     "output_type": "execute_result"
    }
   ],
   "source": [
    "model = Dataset.File.from_files(path=[model_data_path]).as_named_input('model_for_batch_inference_new')\n",
    "model"
   ]
  },
  {
   "cell_type": "markdown",
   "metadata": {},
   "source": [
    "### Submit a pipeline experiment through pipeline parameters"
   ]
  },
  {
   "cell_type": "code",
   "execution_count": 23,
   "metadata": {},
   "outputs": [
    {
     "name": "stdout",
     "output_type": "stream",
     "text": [
      "Submitted PipelineEndpointRun caf579ca-55c0-455f-8c47-4b53bdfa7a9e\n",
      "Link to Azure Machine Learning Portal: https://ml.azure.com/experiments/fasttext_pipeline_endpoint/runs/caf579ca-55c0-455f-8c47-4b53bdfa7a9e?wsid=/subscriptions/74eccef0-4b8d-4f83-b5f9-fa100d155b22/resourcegroups/DesignerDRI/workspaces/DesignerDRI_EASTUS\n",
      "PipelineRunId: caf579ca-55c0-455f-8c47-4b53bdfa7a9e\n",
      "Link to Azure Machine Learning Portal: https://ml.azure.com/experiments/fasttext_pipeline_endpoint/runs/caf579ca-55c0-455f-8c47-4b53bdfa7a9e?wsid=/subscriptions/74eccef0-4b8d-4f83-b5f9-fa100d155b22/resourcegroups/DesignerDRI/workspaces/DesignerDRI_EASTUS\n"
     ]
    },
    {
     "data": {
      "application/javascript": [
       "try {\n",
       "    require.undef(\"validate_widget\")\n",
       "\n",
       "    define('validate_widget', [\"@jupyter-widgets/base\"], function(widgets) {\n",
       "        var ValidateView = widgets.DOMWidgetView.extend({\n",
       "            render () {\n",
       "                window.widget_self = this\n",
       "                var visualize_id = this.model.get('visualize_id')\n",
       "\n",
       "                if (!window._renderLock) {\n",
       "                    window._renderLock = {}\n",
       "                }\n",
       "                if (window._renderLock[visualize_id]) {\n",
       "                    return\n",
       "                }\n",
       "                window._renderLock[visualize_id] = \"widget\"\n",
       "                console.log(\"load as widget\", Date.now())\n",
       "\n",
       "                var lib_url = this.model.get('lib_url')\n",
       "                var graph_json = JSON.parse(this.model.get('graph_json'))\n",
       "                var env_json = JSON.parse(this.model.get('env_json'))\n",
       "                var container_id = this.model.get('container_id')\n",
       "\n",
       "                window.render_container_id = container_id\n",
       "                window.graph_json = graph_json\n",
       "                window.graph_json_to_compare = undefined\n",
       "                window.env_json = env_json\n",
       "                window.before_script = performance.now()\n",
       "\n",
       "                var container = document.createElement('div')\n",
       "                container.id = container_id\n",
       "                this.el.appendChild(container)\n",
       "\n",
       "                var style = document.createElement('style')\n",
       "                style.innerHTML = [\n",
       "                    \"#\", container_id, \" svg.react-dag-editor-svg-container { height: 800px; }\",\n",
       "                    \".cell-output-ipywidget-background { background: transparent !important }\"\n",
       "                ].join('')\n",
       "                this.el.appendChild(style)\n",
       "\n",
       "                this.model.on('msg:custom', dispatchMessage, this);\n",
       "\n",
       "                if (!window.__event_hub) {\n",
       "                    window.__event_hub = {}\n",
       "                }\n",
       "                if (!window.__event_hub[container_id]) {\n",
       "                    window.__event_hub[container_id] = {}\n",
       "                }\n",
       "\n",
       "                if (!window.__send_event) {\n",
       "                    window.__send_event = {}\n",
       "                }\n",
       "                window.__send_event[container_id] = sendMessage.bind(this)\n",
       "\n",
       "                function sendMessage(message, uid, content) {\n",
       "                    return new Promise((resolve) => {\n",
       "                        this.model.send({\n",
       "                            message: `${message}:request`,\n",
       "                            body: {\n",
       "                                uid,\n",
       "                                content\n",
       "                            }\n",
       "                        })\n",
       "    \n",
       "                        var respMessageKey = `${message}:response`\n",
       "                        if (!window.__event_hub[container_id][respMessageKey]) {\n",
       "                            window.__event_hub[container_id][respMessageKey] = []\n",
       "                        }\n",
       "                        window.__event_hub[container_id][respMessageKey].push(callback)\n",
       "    \n",
       "                        function callback (response) {\n",
       "                            if (response.uid !== uid) {\n",
       "                                return\n",
       "                            }\n",
       "\n",
       "                            var idx = window.__event_hub[container_id][respMessageKey].indexOf(callback) \n",
       "                            window.__event_hub[container_id][respMessageKey].splice(idx, 1)\n",
       "                            \n",
       "                            resolve(response)\n",
       "                        }\n",
       "                    })\n",
       "                }\n",
       "\n",
       "                function dispatchMessage (rawMessage) {\n",
       "                    var message = rawMessage.message\n",
       "                    var body = rawMessage.body\n",
       "\n",
       "                    if (!window.__event_hub[container_id][message]) {\n",
       "                        window.__event_hub[container_id][message] = []\n",
       "                    }\n",
       "                    var listeners = window.__event_hub[container_id][message]\n",
       "\n",
       "                    listeners.forEach(cb => {\n",
       "                        try {\n",
       "                            cb(body)\n",
       "                        } catch (e) {\n",
       "                            console.error(\"Unexpected error in listener\", e)\n",
       "                        }\n",
       "                    })\n",
       "\n",
       "                    console.log(body)\n",
       "                }\n",
       "\n",
       "                var script = document.createElement('script')\n",
       "                script.src = lib_url\n",
       "                this.el.appendChild(script)\n",
       "            }\n",
       "        });\n",
       "\n",
       "        return {\n",
       "            ValidateView\n",
       "        }\n",
       "    })\n",
       "} catch (e) {\n",
       "    console.log(\"create validation widget failed\", e)\n",
       "}"
      ],
      "text/plain": [
       "<IPython.core.display.Javascript object>"
      ]
     },
     "metadata": {},
     "output_type": "display_data"
    },
    {
     "data": {
      "application/vnd.jupyter.widget-view+json": {
       "model_id": "851def48b90c4ba2ba31b984ccb703ec",
       "version_major": 2,
       "version_minor": 0
      },
      "text/plain": [
       "ValidateView(container_id='container_id_bafd6144-fd08-4663-a23f-512dbad8a8cc_widget', env_json='{}', graph_jso…"
      ]
     },
     "metadata": {},
     "output_type": "display_data"
    },
    {
     "data": {
      "text/html": [
       "\n",
       "        <style>\n",
       "        #container_id_bafd6144-fd08-4663-a23f-512dbad8a8cc_script svg.react-dag-editor-svg-container {\n",
       "            height: 800px;\n",
       "        }\n",
       "        </style>\n",
       "        <div id=\"container_id_bafd6144-fd08-4663-a23f-512dbad8a8cc_script\"></div>\n",
       "        <script>\n",
       "            (function () {\n",
       "                if (!window._renderLock) {\n",
       "                    window._renderLock = {}\n",
       "                }\n",
       "                if (window._renderLock[\"bafd6144-fd08-4663-a23f-512dbad8a8cc\"]) {\n",
       "                    return\n",
       "                }\n",
       "                window._renderLock[\"bafd6144-fd08-4663-a23f-512dbad8a8cc\"] = \"script\"\n",
       "                console.log(\"load as script\", Date.now())\n",
       "                window.render_container_id=\"container_id_bafd6144-fd08-4663-a23f-512dbad8a8cc_script\";\n",
       "                window.graph_json={\"pipeline\": {\"name\": \"batch inference\", \"data_references\": {\"11f0a26b-d865-4ad4-8c9e-6fe79aedbcc9\": {\"saved_id\": \"11f0a26b-d865-4ad4-8c9e-6fe79aedbcc9\"}, \"0fb7e537-b666-44e3-ad28-531504dac921\": {\"saved_id\": \"0fb7e537-b666-44e3-ad28-531504dac921\"}}, \"steps\": {\"8bb699df\": {\"inputs\": {\"Texts_to_score\": {\"source\": \"11f0a26b-d865-4ad4-8c9e-6fe79aedbcc9\"}, \"Fasttext_model_dir\": {\"source\": \"0fb7e537-b666-44e3-ad28-531504dac921\"}}, \"outputs\": {}, \"module\": {\"id\": \"1a2ea483-4e54-4aea-84eb-4c9a681cda4c\", \"version\": \"0.0.23\"}, \"validate\": {\"error\": [], \"module_id\": \"1a2ea483-4e54-4aea-84eb-4c9a681cda4c\", \"namespace\": \"DesignerDRI_EASTUS\", \"module_name\": \"FastText Score\", \"module_version\": \"0.0.23\"}}}}, \"modules\": [{\"module_id\": \"1a2ea483-4e54-4aea-84eb-4c9a681cda4c\", \"version\": \"0.0.23\", \"name\": \"FastText Score\", \"namespace\": \"DesignerDRI_EASTUS\", \"structured_interface\": {\"inputs\": [{\"name\": \"Texts_to_score\", \"label\": \"Texts to score\", \"description\": null, \"data_type_ids_list\": [\"AnyDirectory\"]}, {\"name\": \"Fasttext_model_dir\", \"label\": \"Fasttext model dir\", \"description\": null, \"data_type_ids_list\": [\"AnyDirectory\"]}], \"outputs\": [{\"name\": \"Scored_data_output_dir\", \"label\": \"Scored data output dir\", \"description\": null, \"data_type_id\": \"AnyDirectory\"}]}}], \"datasources\": [], \"subGraphInfo\": [{\"name\": \"batch inference\", \"description\": \"Batch Inference\", \"default_compute_target\": {\"name\": \"aml-compute\", \"compute_type\": \"0\"}, \"default_data_store\": {\"data_store_name\": \"workspaceblobstore\"}, \"id\": \"9cea89ae-e928-4a1c-b54c-0c3325b7410d\", \"pipeline_definition_id\": \"e9aa6268-87cf-4c5a-a83d-0529db5a886b\", \"sub_graph_parameter_assignment\": [], \"sub_graph_data_path_parameter_assignment\": [], \"sub_graph_default_compute_target_nodes\": [\"8bb699df\"], \"sub_graph_default_data_store_nodes\": [\"8bb699df\"], \"inputs\": [], \"outputs\": []}], \"nodeIdToSubGraphIdMapping\": {\"8bb699df\": \"9cea89ae-e928-4a1c-b54c-0c3325b7410d\"}, \"subPipelineDefinition\": [{\"name\": \"batch inference\", \"description\": \"Batch Inference\", \"default_compute_target\": {\"name\": \"aml-compute\", \"compute_type\": \"0\"}, \"default_data_store\": {\"data_store_name\": \"workspaceblobstore\"}, \"pipeline_function_name\": \"training_pipeline\", \"id\": \"e9aa6268-87cf-4c5a-a83d-0529db5a886b\", \"from_module_name\": \"__main__\", \"parameter_list\": []}]};\n",
       "                window.graph_json_to_compare=undefined;\n",
       "                window.env_json={};\n",
       "                window.before_script = performance.now();\n",
       "                var script = document.createElement('script')\n",
       "                script.src = \"https://yucongj.azureedge.net/libs/prod/0.0.9/index.js\"\n",
       "                document.getElementById(\"container_id_bafd6144-fd08-4663-a23f-512dbad8a8cc_script\").appendChild(script)\n",
       "            })()\n",
       "        </script>\n",
       "        "
      ],
      "text/plain": [
       "<IPython.core.display.HTML object>"
      ]
     },
     "metadata": {},
     "output_type": "display_data"
    },
    {
     "data": {
      "text/plain": [
       "<RunStatus.completed: 'Completed'>"
      ]
     },
     "execution_count": 23,
     "metadata": {},
     "output_type": "execute_result"
    }
   ],
   "source": [
    "experiment_name = 'fasttext_pipeline_endpoint'\n",
    "pipeline_run = pipeline_endpoint.submit(experiment_name=experiment_name, parameters={'dataset':dataset, 'model':model})\n",
    "pipeline_run.wait_for_completion()"
   ]
  },
  {
   "cell_type": "code",
   "execution_count": null,
   "metadata": {},
   "outputs": [],
   "source": []
  }
 ],
 "metadata": {
  "kernelspec": {
   "display_name": "fasttext",
   "language": "python",
   "name": "fasttext"
  },
  "language_info": {
   "codemirror_mode": {
    "name": "ipython",
    "version": 3
   },
   "file_extension": ".py",
   "mimetype": "text/x-python",
   "name": "python",
   "nbconvert_exporter": "python",
   "pygments_lexer": "ipython3",
   "version": "3.6.6"
  },
  "widgets": {
   "application/vnd.jupyter.widget-state+json": {
    "state": {},
    "version_major": 2,
    "version_minor": 0
   }
  }
 },
 "nbformat": 4,
 "nbformat_minor": 4
}
